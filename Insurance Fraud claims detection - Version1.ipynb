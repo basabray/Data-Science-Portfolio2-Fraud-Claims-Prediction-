{
 "cells": [
  {
   "cell_type": "markdown",
   "metadata": {},
   "source": [
    "## Insurance Fraud Claims Detection: EDA and Modelling"
   ]
  },
  {
   "cell_type": "markdown",
   "metadata": {},
   "source": [
    "### Import all the necessary packages:"
   ]
  },
  {
   "cell_type": "code",
   "execution_count": 273,
   "metadata": {},
   "outputs": [],
   "source": [
    "#Let's start with importing necessary libraries\n",
    "import pandas as pd\n",
    "import numpy as np\n",
    "from sklearn.preprocessing import StandardScaler\n",
    "from sklearn.model_selection import train_test_split,GridSearchCV   \n",
    "\n",
    "#All the base algo:\n",
    "from sklearn.linear_model import LogisticRegression\n",
    "from sklearn.tree import DecisionTreeClassifier\n",
    "from sklearn.neighbors import KNeighborsClassifier\n",
    "\n",
    "\n",
    "#model evaluation matrics:\n",
    "from sklearn.metrics import accuracy_score, classification_report, confusion_matrix, roc_curve, roc_auc_score, roc_curve, roc_auc_score\n",
    "\n",
    "#visualization\n",
    "import matplotlib.pyplot as plt\n",
    "import seaborn as sns"
   ]
  },
  {
   "cell_type": "markdown",
   "metadata": {},
   "source": [
    "### Data read and inspection:"
   ]
  },
  {
   "cell_type": "code",
   "execution_count": 131,
   "metadata": {},
   "outputs": [
    {
     "data": {
      "text/html": [
       "<div>\n",
       "<style scoped>\n",
       "    .dataframe tbody tr th:only-of-type {\n",
       "        vertical-align: middle;\n",
       "    }\n",
       "\n",
       "    .dataframe tbody tr th {\n",
       "        vertical-align: top;\n",
       "    }\n",
       "\n",
       "    .dataframe thead th {\n",
       "        text-align: right;\n",
       "    }\n",
       "</style>\n",
       "<table border=\"1\" class=\"dataframe\">\n",
       "  <thead>\n",
       "    <tr style=\"text-align: right;\">\n",
       "      <th></th>\n",
       "      <th>Name</th>\n",
       "      <th>Surname</th>\n",
       "      <th>Age</th>\n",
       "      <th>Gender</th>\n",
       "      <th>Marital_Status</th>\n",
       "      <th>Date_Of_Birth</th>\n",
       "      <th>Sum_Insured</th>\n",
       "      <th>Policies_Revenue</th>\n",
       "      <th>Policy_Start</th>\n",
       "      <th>Policy_End</th>\n",
       "      <th>...</th>\n",
       "      <th>Insured_ID</th>\n",
       "      <th>Kind_Of_Loss</th>\n",
       "      <th>Claim_Amount</th>\n",
       "      <th>Service_Provider</th>\n",
       "      <th>Policy_Holder_Street</th>\n",
       "      <th>Policy_Holder_Province</th>\n",
       "      <th>Policy_Holder_City</th>\n",
       "      <th>Policy_Holder_Area</th>\n",
       "      <th>Policy_Holder_Postal</th>\n",
       "      <th>Fraudulent_Claim</th>\n",
       "    </tr>\n",
       "  </thead>\n",
       "  <tbody>\n",
       "    <tr>\n",
       "      <th>0</th>\n",
       "      <td>Lenna</td>\n",
       "      <td>Britt</td>\n",
       "      <td>48.0</td>\n",
       "      <td>Female</td>\n",
       "      <td>Widowed</td>\n",
       "      <td>1972-04-11T09:52:23</td>\n",
       "      <td>757809.97</td>\n",
       "      <td>2472.35</td>\n",
       "      <td>2007-12-20T01:53:10</td>\n",
       "      <td>2010-12-20T08:59:34</td>\n",
       "      <td>...</td>\n",
       "      <td>Discovery</td>\n",
       "      <td>Water</td>\n",
       "      <td>212213.66</td>\n",
       "      <td>Johnson, Rose and Chavez</td>\n",
       "      <td>James Mountain</td>\n",
       "      <td>Kenya</td>\n",
       "      <td>Baileyfort</td>\n",
       "      <td>Nevada</td>\n",
       "      <td>16007</td>\n",
       "      <td>T</td>\n",
       "    </tr>\n",
       "    <tr>\n",
       "      <th>1</th>\n",
       "      <td>Melia</td>\n",
       "      <td>Travis</td>\n",
       "      <td>50.0</td>\n",
       "      <td>Male</td>\n",
       "      <td>Married</td>\n",
       "      <td>1970-03-18T09:40:01</td>\n",
       "      <td>6750638.09</td>\n",
       "      <td>1614.29</td>\n",
       "      <td>2012-08-17T15:47:57</td>\n",
       "      <td>2014-04-10T08:39:24</td>\n",
       "      <td>...</td>\n",
       "      <td>Discovery</td>\n",
       "      <td>Natural Disaster</td>\n",
       "      <td>2488934.79</td>\n",
       "      <td>Jones, Gonzalez and Hensley</td>\n",
       "      <td>Ramirez Bypass</td>\n",
       "      <td>Central African Republic</td>\n",
       "      <td>Johnside</td>\n",
       "      <td>Pennsylvania</td>\n",
       "      <td>72834</td>\n",
       "      <td>T</td>\n",
       "    </tr>\n",
       "    <tr>\n",
       "      <th>2</th>\n",
       "      <td>Rayford</td>\n",
       "      <td>Weeks</td>\n",
       "      <td>NaN</td>\n",
       "      <td>Female</td>\n",
       "      <td>Separated</td>\n",
       "      <td>NaN</td>\n",
       "      <td>1055481.09</td>\n",
       "      <td>3842.80</td>\n",
       "      <td>1986-12-07T10:50:36</td>\n",
       "      <td>2010-06-24T02:20:07</td>\n",
       "      <td>...</td>\n",
       "      <td>Miway</td>\n",
       "      <td>Theft</td>\n",
       "      <td>9095.35</td>\n",
       "      <td>Black PLC</td>\n",
       "      <td>Danny Terrace</td>\n",
       "      <td>Germany</td>\n",
       "      <td>Stephanieville</td>\n",
       "      <td>Massachusetts</td>\n",
       "      <td>13812</td>\n",
       "      <td>T</td>\n",
       "    </tr>\n",
       "    <tr>\n",
       "      <th>3</th>\n",
       "      <td>Particia</td>\n",
       "      <td>Paul</td>\n",
       "      <td>79.0</td>\n",
       "      <td>Female</td>\n",
       "      <td>Married</td>\n",
       "      <td>1941-06-15T08:29:12</td>\n",
       "      <td>6067239.19</td>\n",
       "      <td>4210.64</td>\n",
       "      <td>2019-03-21T14:54:21</td>\n",
       "      <td>NaN</td>\n",
       "      <td>...</td>\n",
       "      <td>First for Woman</td>\n",
       "      <td>Natural Disaster</td>\n",
       "      <td>1998664.60</td>\n",
       "      <td>Morse and Sons</td>\n",
       "      <td>Ronald Glens</td>\n",
       "      <td>Iceland</td>\n",
       "      <td>Port Heatherburgh</td>\n",
       "      <td>Nevada</td>\n",
       "      <td>17076</td>\n",
       "      <td>T</td>\n",
       "    </tr>\n",
       "    <tr>\n",
       "      <th>4</th>\n",
       "      <td>Derrick</td>\n",
       "      <td>Valenzuela</td>\n",
       "      <td>75.0</td>\n",
       "      <td>Female</td>\n",
       "      <td>Separated</td>\n",
       "      <td>1945-03-22T01:45:12</td>\n",
       "      <td>8484415.83</td>\n",
       "      <td>3994.97</td>\n",
       "      <td>2004-03-20T06:39:45</td>\n",
       "      <td>1920-06-16T10:32:02</td>\n",
       "      <td>...</td>\n",
       "      <td>Hollard</td>\n",
       "      <td>Natural Disaster</td>\n",
       "      <td>4313932.55</td>\n",
       "      <td>Krause, Phillips and Mccall</td>\n",
       "      <td>Mary Station</td>\n",
       "      <td>Mozambique</td>\n",
       "      <td>Kevinburgh</td>\n",
       "      <td>Louisiana</td>\n",
       "      <td>99268</td>\n",
       "      <td>T</td>\n",
       "    </tr>\n",
       "  </tbody>\n",
       "</table>\n",
       "<p>5 rows × 24 columns</p>\n",
       "</div>"
      ],
      "text/plain": [
       "       Name     Surname   Age  Gender Marital_Status        Date_Of_Birth  \\\n",
       "0     Lenna       Britt  48.0  Female        Widowed  1972-04-11T09:52:23   \n",
       "1     Melia      Travis  50.0    Male        Married  1970-03-18T09:40:01   \n",
       "2   Rayford       Weeks   NaN  Female      Separated                  NaN   \n",
       "3  Particia        Paul  79.0  Female        Married  1941-06-15T08:29:12   \n",
       "4   Derrick  Valenzuela  75.0  Female      Separated  1945-03-22T01:45:12   \n",
       "\n",
       "   Sum_Insured  Policies_Revenue         Policy_Start           Policy_End  \\\n",
       "0    757809.97           2472.35  2007-12-20T01:53:10  2010-12-20T08:59:34   \n",
       "1   6750638.09           1614.29  2012-08-17T15:47:57  2014-04-10T08:39:24   \n",
       "2   1055481.09           3842.80  1986-12-07T10:50:36  2010-06-24T02:20:07   \n",
       "3   6067239.19           4210.64  2019-03-21T14:54:21                  NaN   \n",
       "4   8484415.83           3994.97  2004-03-20T06:39:45  1920-06-16T10:32:02   \n",
       "\n",
       "   ...       Insured_ID      Kind_Of_Loss Claim_Amount  \\\n",
       "0  ...        Discovery             Water    212213.66   \n",
       "1  ...        Discovery  Natural Disaster   2488934.79   \n",
       "2  ...            Miway             Theft      9095.35   \n",
       "3  ...  First for Woman  Natural Disaster   1998664.60   \n",
       "4  ...          Hollard  Natural Disaster   4313932.55   \n",
       "\n",
       "              Service_Provider Policy_Holder_Street    Policy_Holder_Province  \\\n",
       "0     Johnson, Rose and Chavez       James Mountain                     Kenya   \n",
       "1  Jones, Gonzalez and Hensley       Ramirez Bypass  Central African Republic   \n",
       "2                    Black PLC        Danny Terrace                   Germany   \n",
       "3               Morse and Sons         Ronald Glens                   Iceland   \n",
       "4  Krause, Phillips and Mccall         Mary Station                Mozambique   \n",
       "\n",
       "   Policy_Holder_City Policy_Holder_Area Policy_Holder_Postal Fraudulent_Claim  \n",
       "0          Baileyfort             Nevada                16007                T  \n",
       "1            Johnside       Pennsylvania                72834                T  \n",
       "2      Stephanieville      Massachusetts                13812                T  \n",
       "3   Port Heatherburgh             Nevada                17076                T  \n",
       "4          Kevinburgh          Louisiana                99268                T  \n",
       "\n",
       "[5 rows x 24 columns]"
      ]
     },
     "execution_count": 131,
     "metadata": {},
     "output_type": "execute_result"
    }
   ],
   "source": [
    "#read and store the data into a dataframe:\n",
    "data = pd.read_excel(r'C:\\Users\\91842\\Downloads\\insurance claims.xlsx')\n",
    "data.head()"
   ]
  },
  {
   "cell_type": "markdown",
   "metadata": {},
   "source": [
    "Dependent feature: Fraudulent_Claim\n",
    "- T indicates it is a fraud claim     (can be labelled as class 1)\n",
    "- F indicates it is not a fraud claim (can be labelled as class 0)"
   ]
  },
  {
   "cell_type": "code",
   "execution_count": 14,
   "metadata": {},
   "outputs": [
    {
     "data": {
      "text/plain": [
       "(100, 24)"
      ]
     },
     "execution_count": 14,
     "metadata": {},
     "output_type": "execute_result"
    }
   ],
   "source": [
    "#check the shape of the data:\n",
    "data.shape"
   ]
  },
  {
   "cell_type": "markdown",
   "metadata": {},
   "source": [
    "Observation: \n",
    "- There are total 100 rows and 24 columns present in the data (including target column)\n",
    "- This dataset has a high number of features in comparison to the number of data available"
   ]
  },
  {
   "cell_type": "code",
   "execution_count": 13,
   "metadata": {},
   "outputs": [
    {
     "data": {
      "text/plain": [
       "Name                               object\n",
       "Surname                            object\n",
       "Age                               float64\n",
       "Gender                             object\n",
       "Marital_Status                     object\n",
       "Date_Of_Birth                      object\n",
       "Sum_Insured                       float64\n",
       "Policies_Revenue                  float64\n",
       "Policy_Start                       object\n",
       "Policy_End                         object\n",
       "Fraudulent_Claim_Reason            object\n",
       "Date_Of_Loss                       object\n",
       "Date_Of_Claim              datetime64[ns]\n",
       "Broker_ID                          object\n",
       "Insured_ID                         object\n",
       "Kind_Of_Loss                       object\n",
       "Claim_Amount                      float64\n",
       "Service_Provider                   object\n",
       "Policy_Holder_Street               object\n",
       "Policy_Holder_Province             object\n",
       "Policy_Holder_City                 object\n",
       "Policy_Holder_Area                 object\n",
       "Policy_Holder_Postal                int64\n",
       "Fraudulent_Claim                   object\n",
       "dtype: object"
      ]
     },
     "execution_count": 13,
     "metadata": {},
     "output_type": "execute_result"
    }
   ],
   "source": [
    "#check the data types of the columns:\n",
    "data.dtypes"
   ]
  },
  {
   "cell_type": "markdown",
   "metadata": {},
   "source": [
    "Observation:\n",
    "- Most of the columns are of type qualitative/categorical\n",
    "- One column as date and time, Date_Of_Claim and the rest are of quantitatve/numerical columns."
   ]
  },
  {
   "cell_type": "markdown",
   "metadata": {},
   "source": [
    "### Summary Statistics:"
   ]
  },
  {
   "cell_type": "code",
   "execution_count": 15,
   "metadata": {},
   "outputs": [
    {
     "data": {
      "text/html": [
       "<div>\n",
       "<style scoped>\n",
       "    .dataframe tbody tr th:only-of-type {\n",
       "        vertical-align: middle;\n",
       "    }\n",
       "\n",
       "    .dataframe tbody tr th {\n",
       "        vertical-align: top;\n",
       "    }\n",
       "\n",
       "    .dataframe thead th {\n",
       "        text-align: right;\n",
       "    }\n",
       "</style>\n",
       "<table border=\"1\" class=\"dataframe\">\n",
       "  <thead>\n",
       "    <tr style=\"text-align: right;\">\n",
       "      <th></th>\n",
       "      <th>Age</th>\n",
       "      <th>Sum_Insured</th>\n",
       "      <th>Policies_Revenue</th>\n",
       "      <th>Claim_Amount</th>\n",
       "      <th>Policy_Holder_Postal</th>\n",
       "    </tr>\n",
       "  </thead>\n",
       "  <tbody>\n",
       "    <tr>\n",
       "      <th>count</th>\n",
       "      <td>94.000000</td>\n",
       "      <td>1.000000e+02</td>\n",
       "      <td>100.000000</td>\n",
       "      <td>1.000000e+02</td>\n",
       "      <td>100.000000</td>\n",
       "    </tr>\n",
       "    <tr>\n",
       "      <th>mean</th>\n",
       "      <td>58.446809</td>\n",
       "      <td>4.563890e+06</td>\n",
       "      <td>2223.665300</td>\n",
       "      <td>2.604043e+06</td>\n",
       "      <td>47675.720000</td>\n",
       "    </tr>\n",
       "    <tr>\n",
       "      <th>std</th>\n",
       "      <td>25.351557</td>\n",
       "      <td>2.877383e+06</td>\n",
       "      <td>1623.456871</td>\n",
       "      <td>2.293787e+06</td>\n",
       "      <td>27288.417796</td>\n",
       "    </tr>\n",
       "    <tr>\n",
       "      <th>min</th>\n",
       "      <td>17.000000</td>\n",
       "      <td>2.210049e+05</td>\n",
       "      <td>0.000000</td>\n",
       "      <td>9.095350e+03</td>\n",
       "      <td>2741.000000</td>\n",
       "    </tr>\n",
       "    <tr>\n",
       "      <th>25%</th>\n",
       "      <td>35.250000</td>\n",
       "      <td>1.627644e+06</td>\n",
       "      <td>829.392500</td>\n",
       "      <td>5.613384e+05</td>\n",
       "      <td>27357.250000</td>\n",
       "    </tr>\n",
       "    <tr>\n",
       "      <th>50%</th>\n",
       "      <td>59.000000</td>\n",
       "      <td>4.554278e+06</td>\n",
       "      <td>2049.500000</td>\n",
       "      <td>1.915821e+06</td>\n",
       "      <td>46255.500000</td>\n",
       "    </tr>\n",
       "    <tr>\n",
       "      <th>75%</th>\n",
       "      <td>79.750000</td>\n",
       "      <td>6.933824e+06</td>\n",
       "      <td>3831.692500</td>\n",
       "      <td>3.980673e+06</td>\n",
       "      <td>67977.750000</td>\n",
       "    </tr>\n",
       "    <tr>\n",
       "      <th>max</th>\n",
       "      <td>100.000000</td>\n",
       "      <td>9.892380e+06</td>\n",
       "      <td>4984.920000</td>\n",
       "      <td>8.637193e+06</td>\n",
       "      <td>99268.000000</td>\n",
       "    </tr>\n",
       "  </tbody>\n",
       "</table>\n",
       "</div>"
      ],
      "text/plain": [
       "              Age   Sum_Insured  Policies_Revenue  Claim_Amount  \\\n",
       "count   94.000000  1.000000e+02        100.000000  1.000000e+02   \n",
       "mean    58.446809  4.563890e+06       2223.665300  2.604043e+06   \n",
       "std     25.351557  2.877383e+06       1623.456871  2.293787e+06   \n",
       "min     17.000000  2.210049e+05          0.000000  9.095350e+03   \n",
       "25%     35.250000  1.627644e+06        829.392500  5.613384e+05   \n",
       "50%     59.000000  4.554278e+06       2049.500000  1.915821e+06   \n",
       "75%     79.750000  6.933824e+06       3831.692500  3.980673e+06   \n",
       "max    100.000000  9.892380e+06       4984.920000  8.637193e+06   \n",
       "\n",
       "       Policy_Holder_Postal  \n",
       "count            100.000000  \n",
       "mean           47675.720000  \n",
       "std            27288.417796  \n",
       "min             2741.000000  \n",
       "25%            27357.250000  \n",
       "50%            46255.500000  \n",
       "75%            67977.750000  \n",
       "max            99268.000000  "
      ]
     },
     "execution_count": 15,
     "metadata": {},
     "output_type": "execute_result"
    }
   ],
   "source": [
    "#describe the numerical columns:\n",
    "data.describe()"
   ]
  },
  {
   "cell_type": "markdown",
   "metadata": {},
   "source": [
    "Observations:\n",
    "- Average UK car insurance claim amount is £1048. Whereas the average revenue from insurance is £2223. \n",
    "- The claim amount is varying highly, the standard deviation is almost £924. Which indicates there are some claims where the claim amount is higher than the avg claim amount.\n",
    "- Similary, the policy revenue amount is varying highly, the standard deviation is almost £1623. There are few policies where revenue is showing as 0. Also there are some policies with revenue as high as £4984.\n",
    "- Average age of a policy holder is approximately 58 years."
   ]
  },
  {
   "cell_type": "code",
   "execution_count": 16,
   "metadata": {},
   "outputs": [
    {
     "data": {
      "text/plain": [
       "Name                        0\n",
       "Surname                     0\n",
       "Age                         6\n",
       "Gender                      0\n",
       "Marital_Status              0\n",
       "Date_Of_Birth               6\n",
       "Sum_Insured                 0\n",
       "Policies_Revenue            0\n",
       "Policy_Start                7\n",
       "Policy_End                 14\n",
       "Fraudulent_Claim_Reason    16\n",
       "Date_Of_Loss                0\n",
       "Date_Of_Claim               7\n",
       "Broker_ID                   0\n",
       "Insured_ID                  0\n",
       "Kind_Of_Loss                0\n",
       "Claim_Amount                0\n",
       "Service_Provider            0\n",
       "Policy_Holder_Street        0\n",
       "Policy_Holder_Province      0\n",
       "Policy_Holder_City          0\n",
       "Policy_Holder_Area          0\n",
       "Policy_Holder_Postal        0\n",
       "Fraudulent_Claim            0\n",
       "dtype: int64"
      ]
     },
     "execution_count": 16,
     "metadata": {},
     "output_type": "execute_result"
    }
   ],
   "source": [
    "data.isnull().sum()"
   ]
  },
  {
   "cell_type": "markdown",
   "metadata": {},
   "source": [
    "Observations:\n",
    "- There are some missing values present in the columns - Age, Date_Of_Birth, Policy_Start, Policy_End and Date_Of_Claim. So it seems all the missing data are date related. Need to take care of the missing vlaues before we proceed further."
   ]
  },
  {
   "cell_type": "markdown",
   "metadata": {},
   "source": [
    "### Data cleaning:\n",
    "- Missing values identification, cause of missing values and imputation of missing vales\n",
    "- First let's look at the missing Policy start date"
   ]
  },
  {
   "cell_type": "code",
   "execution_count": 24,
   "metadata": {},
   "outputs": [
    {
     "data": {
      "text/html": [
       "<div>\n",
       "<style scoped>\n",
       "    .dataframe tbody tr th:only-of-type {\n",
       "        vertical-align: middle;\n",
       "    }\n",
       "\n",
       "    .dataframe tbody tr th {\n",
       "        vertical-align: top;\n",
       "    }\n",
       "\n",
       "    .dataframe thead th {\n",
       "        text-align: right;\n",
       "    }\n",
       "</style>\n",
       "<table border=\"1\" class=\"dataframe\">\n",
       "  <thead>\n",
       "    <tr style=\"text-align: right;\">\n",
       "      <th></th>\n",
       "      <th>Name</th>\n",
       "      <th>Surname</th>\n",
       "      <th>Age</th>\n",
       "      <th>Gender</th>\n",
       "      <th>Marital_Status</th>\n",
       "      <th>Date_Of_Birth</th>\n",
       "      <th>Sum_Insured</th>\n",
       "      <th>Policies_Revenue</th>\n",
       "      <th>Policy_Start</th>\n",
       "      <th>Policy_End</th>\n",
       "      <th>...</th>\n",
       "      <th>Insured_ID</th>\n",
       "      <th>Kind_Of_Loss</th>\n",
       "      <th>Claim_Amount</th>\n",
       "      <th>Service_Provider</th>\n",
       "      <th>Policy_Holder_Street</th>\n",
       "      <th>Policy_Holder_Province</th>\n",
       "      <th>Policy_Holder_City</th>\n",
       "      <th>Policy_Holder_Area</th>\n",
       "      <th>Policy_Holder_Postal</th>\n",
       "      <th>Fraudulent_Claim</th>\n",
       "    </tr>\n",
       "  </thead>\n",
       "  <tbody>\n",
       "    <tr>\n",
       "      <th>5</th>\n",
       "      <td>Joette</td>\n",
       "      <td>Long</td>\n",
       "      <td>19.0</td>\n",
       "      <td>Male</td>\n",
       "      <td>Married</td>\n",
       "      <td>1950-10-29T09:03:59</td>\n",
       "      <td>3707420.90</td>\n",
       "      <td>1089.13</td>\n",
       "      <td>NaN</td>\n",
       "      <td>NaN</td>\n",
       "      <td>...</td>\n",
       "      <td>First for Woman</td>\n",
       "      <td>Theft</td>\n",
       "      <td>3620061.25</td>\n",
       "      <td>White-Thompson</td>\n",
       "      <td>Miller Meadow</td>\n",
       "      <td>Guadeloupe</td>\n",
       "      <td>South Anthonymouth</td>\n",
       "      <td>Wyoming</td>\n",
       "      <td>73797</td>\n",
       "      <td>T</td>\n",
       "    </tr>\n",
       "    <tr>\n",
       "      <th>24</th>\n",
       "      <td>Santo</td>\n",
       "      <td>York</td>\n",
       "      <td>24.0</td>\n",
       "      <td>Male</td>\n",
       "      <td>Separated</td>\n",
       "      <td>1932-08-10T01:32:06</td>\n",
       "      <td>1500134.84</td>\n",
       "      <td>3456.05</td>\n",
       "      <td>NaN</td>\n",
       "      <td>NaN</td>\n",
       "      <td>...</td>\n",
       "      <td>Discovery</td>\n",
       "      <td>Theft</td>\n",
       "      <td>411786.14</td>\n",
       "      <td>Shannon, Yates and Christian</td>\n",
       "      <td>Williams Spring</td>\n",
       "      <td>Niue</td>\n",
       "      <td>Christopherhaven</td>\n",
       "      <td>Missouri</td>\n",
       "      <td>47123</td>\n",
       "      <td>T</td>\n",
       "    </tr>\n",
       "    <tr>\n",
       "      <th>56</th>\n",
       "      <td>Cicely</td>\n",
       "      <td>Camacho</td>\n",
       "      <td>43.0</td>\n",
       "      <td>Male</td>\n",
       "      <td>Single</td>\n",
       "      <td>1964-09-23T11:08:50</td>\n",
       "      <td>7111635.23</td>\n",
       "      <td>3507.55</td>\n",
       "      <td>NaN</td>\n",
       "      <td>NaN</td>\n",
       "      <td>...</td>\n",
       "      <td>Outsurance</td>\n",
       "      <td>Theft</td>\n",
       "      <td>4331277.33</td>\n",
       "      <td>Chase-Rodriguez</td>\n",
       "      <td>Tracy Crescent</td>\n",
       "      <td>Bouvet Island (Bouvetoya)</td>\n",
       "      <td>East Deborah</td>\n",
       "      <td>South Dakota</td>\n",
       "      <td>42695</td>\n",
       "      <td>T</td>\n",
       "    </tr>\n",
       "    <tr>\n",
       "      <th>58</th>\n",
       "      <td>Lang</td>\n",
       "      <td>Mercado</td>\n",
       "      <td>21.0</td>\n",
       "      <td>Male</td>\n",
       "      <td>Separated</td>\n",
       "      <td>1996-06-16T00:17:48</td>\n",
       "      <td>6062400.36</td>\n",
       "      <td>4330.20</td>\n",
       "      <td>NaN</td>\n",
       "      <td>NaN</td>\n",
       "      <td>...</td>\n",
       "      <td>Outsurance</td>\n",
       "      <td>Theft</td>\n",
       "      <td>600628.55</td>\n",
       "      <td>Myers-Castro</td>\n",
       "      <td>Barron Points</td>\n",
       "      <td>Singapore</td>\n",
       "      <td>North Juan</td>\n",
       "      <td>South Dakota</td>\n",
       "      <td>95295</td>\n",
       "      <td>T</td>\n",
       "    </tr>\n",
       "    <tr>\n",
       "      <th>86</th>\n",
       "      <td>Tammera</td>\n",
       "      <td>Holland</td>\n",
       "      <td>24.0</td>\n",
       "      <td>Male</td>\n",
       "      <td>Married</td>\n",
       "      <td>1993-02-22T05:30:11</td>\n",
       "      <td>6454107.44</td>\n",
       "      <td>881.11</td>\n",
       "      <td>NaN</td>\n",
       "      <td>NaN</td>\n",
       "      <td>...</td>\n",
       "      <td>Outsurance</td>\n",
       "      <td>Natural Disaster</td>\n",
       "      <td>2484710.32</td>\n",
       "      <td>Spence-Weber</td>\n",
       "      <td>Porter Avenue</td>\n",
       "      <td>Georgia</td>\n",
       "      <td>New Aprilshire</td>\n",
       "      <td>Indiana</td>\n",
       "      <td>94538</td>\n",
       "      <td>T</td>\n",
       "    </tr>\n",
       "  </tbody>\n",
       "</table>\n",
       "<p>5 rows × 24 columns</p>\n",
       "</div>"
      ],
      "text/plain": [
       "       Name  Surname   Age Gender Marital_Status        Date_Of_Birth  \\\n",
       "5    Joette     Long  19.0   Male        Married  1950-10-29T09:03:59   \n",
       "24    Santo     York  24.0   Male      Separated  1932-08-10T01:32:06   \n",
       "56   Cicely  Camacho  43.0   Male         Single  1964-09-23T11:08:50   \n",
       "58     Lang  Mercado  21.0   Male      Separated  1996-06-16T00:17:48   \n",
       "86  Tammera  Holland  24.0   Male        Married  1993-02-22T05:30:11   \n",
       "\n",
       "    Sum_Insured  Policies_Revenue Policy_Start Policy_End  ...  \\\n",
       "5    3707420.90           1089.13          NaN        NaN  ...   \n",
       "24   1500134.84           3456.05          NaN        NaN  ...   \n",
       "56   7111635.23           3507.55          NaN        NaN  ...   \n",
       "58   6062400.36           4330.20          NaN        NaN  ...   \n",
       "86   6454107.44            881.11          NaN        NaN  ...   \n",
       "\n",
       "         Insured_ID      Kind_Of_Loss Claim_Amount  \\\n",
       "5   First for Woman             Theft   3620061.25   \n",
       "24        Discovery             Theft    411786.14   \n",
       "56       Outsurance             Theft   4331277.33   \n",
       "58       Outsurance             Theft    600628.55   \n",
       "86       Outsurance  Natural Disaster   2484710.32   \n",
       "\n",
       "                Service_Provider Policy_Holder_Street  \\\n",
       "5                 White-Thompson        Miller Meadow   \n",
       "24  Shannon, Yates and Christian      Williams Spring   \n",
       "56               Chase-Rodriguez       Tracy Crescent   \n",
       "58                  Myers-Castro        Barron Points   \n",
       "86                  Spence-Weber        Porter Avenue   \n",
       "\n",
       "       Policy_Holder_Province  Policy_Holder_City Policy_Holder_Area  \\\n",
       "5                  Guadeloupe  South Anthonymouth            Wyoming   \n",
       "24                       Niue    Christopherhaven           Missouri   \n",
       "56  Bouvet Island (Bouvetoya)        East Deborah       South Dakota   \n",
       "58                  Singapore          North Juan       South Dakota   \n",
       "86                    Georgia      New Aprilshire            Indiana   \n",
       "\n",
       "   Policy_Holder_Postal Fraudulent_Claim  \n",
       "5                 73797                T  \n",
       "24                47123                T  \n",
       "56                42695                T  \n",
       "58                95295                T  \n",
       "86                94538                T  \n",
       "\n",
       "[5 rows x 24 columns]"
      ]
     },
     "execution_count": 24,
     "metadata": {},
     "output_type": "execute_result"
    }
   ],
   "source": [
    "data[data['Policy_Start'].isnull()][:5]"
   ]
  },
  {
   "cell_type": "markdown",
   "metadata": {},
   "source": [
    "Observation: \n",
    "- It seems wherever we have missing policy start date also we have missing policy end date there.\n",
    "- let's verify if it holds true for all the missing start date or not:"
   ]
  },
  {
   "cell_type": "code",
   "execution_count": 133,
   "metadata": {},
   "outputs": [
    {
     "data": {
      "text/plain": [
       "(array([ 5, 24, 56, 58, 86, 88, 98], dtype=int64),)"
      ]
     },
     "execution_count": 133,
     "metadata": {},
     "output_type": "execute_result"
    }
   ],
   "source": [
    "np.where((data['Policy_Start'].isnull()) & (data['Policy_End'].isnull()))"
   ]
  },
  {
   "cell_type": "markdown",
   "metadata": {},
   "source": [
    "- Now took all the missing date values from the 3 columns - 'Policy_Start', 'Policy_End' and 'Date_Of_Claim'"
   ]
  },
  {
   "cell_type": "code",
   "execution_count": 132,
   "metadata": {},
   "outputs": [
    {
     "data": {
      "text/plain": [
       "(array([ 5, 24, 56, 58, 86, 88, 98], dtype=int64),)"
      ]
     },
     "execution_count": 132,
     "metadata": {},
     "output_type": "execute_result"
    }
   ],
   "source": [
    "np.where((data['Policy_Start'].isnull()) & (data['Date_Of_Claim'].isnull()) & (data['Policy_End'].isnull()))"
   ]
  },
  {
   "cell_type": "markdown",
   "metadata": {},
   "source": [
    "##### Observation:\n",
    "- Here is an important point to notice that wherever we have policy start date missing, we also have policy end date missing.\n",
    "- Next wherever these two dates are missing we also have policy claim date as missing. \n",
    "- Hence this does not seem to be random missing or data entry errors.\n",
    "- Total there are 7 such data present\n",
    "- let's dig in deep to see how the data looks like when for all these 3 dates are missing"
   ]
  },
  {
   "cell_type": "code",
   "execution_count": 58,
   "metadata": {},
   "outputs": [
    {
     "data": {
      "text/html": [
       "<div>\n",
       "<style scoped>\n",
       "    .dataframe tbody tr th:only-of-type {\n",
       "        vertical-align: middle;\n",
       "    }\n",
       "\n",
       "    .dataframe tbody tr th {\n",
       "        vertical-align: top;\n",
       "    }\n",
       "\n",
       "    .dataframe thead th {\n",
       "        text-align: right;\n",
       "    }\n",
       "</style>\n",
       "<table border=\"1\" class=\"dataframe\">\n",
       "  <thead>\n",
       "    <tr style=\"text-align: right;\">\n",
       "      <th></th>\n",
       "      <th>Name</th>\n",
       "      <th>Surname</th>\n",
       "      <th>Age</th>\n",
       "      <th>Gender</th>\n",
       "      <th>Marital_Status</th>\n",
       "      <th>Date_Of_Birth</th>\n",
       "      <th>Sum_Insured</th>\n",
       "      <th>Policies_Revenue</th>\n",
       "      <th>Policy_Start</th>\n",
       "      <th>Policy_End</th>\n",
       "      <th>...</th>\n",
       "      <th>Insured_ID</th>\n",
       "      <th>Kind_Of_Loss</th>\n",
       "      <th>Claim_Amount</th>\n",
       "      <th>Service_Provider</th>\n",
       "      <th>Policy_Holder_Street</th>\n",
       "      <th>Policy_Holder_Province</th>\n",
       "      <th>Policy_Holder_City</th>\n",
       "      <th>Policy_Holder_Area</th>\n",
       "      <th>Policy_Holder_Postal</th>\n",
       "      <th>Fraudulent_Claim</th>\n",
       "    </tr>\n",
       "  </thead>\n",
       "  <tbody>\n",
       "    <tr>\n",
       "      <th>5</th>\n",
       "      <td>Joette</td>\n",
       "      <td>Long</td>\n",
       "      <td>19.0</td>\n",
       "      <td>Male</td>\n",
       "      <td>Married</td>\n",
       "      <td>1950-10-29T09:03:59</td>\n",
       "      <td>3707420.90</td>\n",
       "      <td>1089.13</td>\n",
       "      <td>NaN</td>\n",
       "      <td>NaN</td>\n",
       "      <td>...</td>\n",
       "      <td>First for Woman</td>\n",
       "      <td>Theft</td>\n",
       "      <td>3620061.25</td>\n",
       "      <td>White-Thompson</td>\n",
       "      <td>Miller Meadow</td>\n",
       "      <td>Guadeloupe</td>\n",
       "      <td>South Anthonymouth</td>\n",
       "      <td>Wyoming</td>\n",
       "      <td>73797</td>\n",
       "      <td>T</td>\n",
       "    </tr>\n",
       "    <tr>\n",
       "      <th>24</th>\n",
       "      <td>Santo</td>\n",
       "      <td>York</td>\n",
       "      <td>24.0</td>\n",
       "      <td>Male</td>\n",
       "      <td>Separated</td>\n",
       "      <td>1932-08-10T01:32:06</td>\n",
       "      <td>1500134.84</td>\n",
       "      <td>3456.05</td>\n",
       "      <td>NaN</td>\n",
       "      <td>NaN</td>\n",
       "      <td>...</td>\n",
       "      <td>Discovery</td>\n",
       "      <td>Theft</td>\n",
       "      <td>411786.14</td>\n",
       "      <td>Shannon, Yates and Christian</td>\n",
       "      <td>Williams Spring</td>\n",
       "      <td>Niue</td>\n",
       "      <td>Christopherhaven</td>\n",
       "      <td>Missouri</td>\n",
       "      <td>47123</td>\n",
       "      <td>T</td>\n",
       "    </tr>\n",
       "    <tr>\n",
       "      <th>56</th>\n",
       "      <td>Cicely</td>\n",
       "      <td>Camacho</td>\n",
       "      <td>43.0</td>\n",
       "      <td>Male</td>\n",
       "      <td>Single</td>\n",
       "      <td>1964-09-23T11:08:50</td>\n",
       "      <td>7111635.23</td>\n",
       "      <td>3507.55</td>\n",
       "      <td>NaN</td>\n",
       "      <td>NaN</td>\n",
       "      <td>...</td>\n",
       "      <td>Outsurance</td>\n",
       "      <td>Theft</td>\n",
       "      <td>4331277.33</td>\n",
       "      <td>Chase-Rodriguez</td>\n",
       "      <td>Tracy Crescent</td>\n",
       "      <td>Bouvet Island (Bouvetoya)</td>\n",
       "      <td>East Deborah</td>\n",
       "      <td>South Dakota</td>\n",
       "      <td>42695</td>\n",
       "      <td>T</td>\n",
       "    </tr>\n",
       "    <tr>\n",
       "      <th>58</th>\n",
       "      <td>Lang</td>\n",
       "      <td>Mercado</td>\n",
       "      <td>21.0</td>\n",
       "      <td>Male</td>\n",
       "      <td>Separated</td>\n",
       "      <td>1996-06-16T00:17:48</td>\n",
       "      <td>6062400.36</td>\n",
       "      <td>4330.20</td>\n",
       "      <td>NaN</td>\n",
       "      <td>NaN</td>\n",
       "      <td>...</td>\n",
       "      <td>Outsurance</td>\n",
       "      <td>Theft</td>\n",
       "      <td>600628.55</td>\n",
       "      <td>Myers-Castro</td>\n",
       "      <td>Barron Points</td>\n",
       "      <td>Singapore</td>\n",
       "      <td>North Juan</td>\n",
       "      <td>South Dakota</td>\n",
       "      <td>95295</td>\n",
       "      <td>T</td>\n",
       "    </tr>\n",
       "    <tr>\n",
       "      <th>86</th>\n",
       "      <td>Tammera</td>\n",
       "      <td>Holland</td>\n",
       "      <td>24.0</td>\n",
       "      <td>Male</td>\n",
       "      <td>Married</td>\n",
       "      <td>1993-02-22T05:30:11</td>\n",
       "      <td>6454107.44</td>\n",
       "      <td>881.11</td>\n",
       "      <td>NaN</td>\n",
       "      <td>NaN</td>\n",
       "      <td>...</td>\n",
       "      <td>Outsurance</td>\n",
       "      <td>Natural Disaster</td>\n",
       "      <td>2484710.32</td>\n",
       "      <td>Spence-Weber</td>\n",
       "      <td>Porter Avenue</td>\n",
       "      <td>Georgia</td>\n",
       "      <td>New Aprilshire</td>\n",
       "      <td>Indiana</td>\n",
       "      <td>94538</td>\n",
       "      <td>T</td>\n",
       "    </tr>\n",
       "    <tr>\n",
       "      <th>88</th>\n",
       "      <td>Cliff</td>\n",
       "      <td>Allison</td>\n",
       "      <td>24.0</td>\n",
       "      <td>Female</td>\n",
       "      <td>Separated</td>\n",
       "      <td>1971-11-13T10:13:37</td>\n",
       "      <td>6214829.59</td>\n",
       "      <td>3955.02</td>\n",
       "      <td>NaN</td>\n",
       "      <td>NaN</td>\n",
       "      <td>...</td>\n",
       "      <td>Budget</td>\n",
       "      <td>Fire</td>\n",
       "      <td>3334459.80</td>\n",
       "      <td>Romero, Carrillo and Marshall</td>\n",
       "      <td>Bird Ridge</td>\n",
       "      <td>Madagascar</td>\n",
       "      <td>Allenbury</td>\n",
       "      <td>Colorado</td>\n",
       "      <td>6248</td>\n",
       "      <td>T</td>\n",
       "    </tr>\n",
       "    <tr>\n",
       "      <th>98</th>\n",
       "      <td>Sherman</td>\n",
       "      <td>Reyes</td>\n",
       "      <td>46.0</td>\n",
       "      <td>Male</td>\n",
       "      <td>Married</td>\n",
       "      <td>1928-12-03T02:53:46</td>\n",
       "      <td>1392581.91</td>\n",
       "      <td>1420.40</td>\n",
       "      <td>NaN</td>\n",
       "      <td>NaN</td>\n",
       "      <td>...</td>\n",
       "      <td>Miway</td>\n",
       "      <td>Fire</td>\n",
       "      <td>428687.81</td>\n",
       "      <td>Coleman-Contreras</td>\n",
       "      <td>Walters Radial</td>\n",
       "      <td>Niger</td>\n",
       "      <td>Carterfurt</td>\n",
       "      <td>Montana</td>\n",
       "      <td>96501</td>\n",
       "      <td>T</td>\n",
       "    </tr>\n",
       "  </tbody>\n",
       "</table>\n",
       "<p>7 rows × 24 columns</p>\n",
       "</div>"
      ],
      "text/plain": [
       "       Name  Surname   Age  Gender Marital_Status        Date_Of_Birth  \\\n",
       "5    Joette     Long  19.0    Male        Married  1950-10-29T09:03:59   \n",
       "24    Santo     York  24.0    Male      Separated  1932-08-10T01:32:06   \n",
       "56   Cicely  Camacho  43.0    Male         Single  1964-09-23T11:08:50   \n",
       "58     Lang  Mercado  21.0    Male      Separated  1996-06-16T00:17:48   \n",
       "86  Tammera  Holland  24.0    Male        Married  1993-02-22T05:30:11   \n",
       "88    Cliff  Allison  24.0  Female      Separated  1971-11-13T10:13:37   \n",
       "98  Sherman    Reyes  46.0    Male        Married  1928-12-03T02:53:46   \n",
       "\n",
       "    Sum_Insured  Policies_Revenue Policy_Start Policy_End  ...  \\\n",
       "5    3707420.90           1089.13          NaN        NaN  ...   \n",
       "24   1500134.84           3456.05          NaN        NaN  ...   \n",
       "56   7111635.23           3507.55          NaN        NaN  ...   \n",
       "58   6062400.36           4330.20          NaN        NaN  ...   \n",
       "86   6454107.44            881.11          NaN        NaN  ...   \n",
       "88   6214829.59           3955.02          NaN        NaN  ...   \n",
       "98   1392581.91           1420.40          NaN        NaN  ...   \n",
       "\n",
       "         Insured_ID      Kind_Of_Loss Claim_Amount  \\\n",
       "5   First for Woman             Theft   3620061.25   \n",
       "24        Discovery             Theft    411786.14   \n",
       "56       Outsurance             Theft   4331277.33   \n",
       "58       Outsurance             Theft    600628.55   \n",
       "86       Outsurance  Natural Disaster   2484710.32   \n",
       "88           Budget              Fire   3334459.80   \n",
       "98            Miway              Fire    428687.81   \n",
       "\n",
       "                 Service_Provider Policy_Holder_Street  \\\n",
       "5                  White-Thompson        Miller Meadow   \n",
       "24   Shannon, Yates and Christian      Williams Spring   \n",
       "56                Chase-Rodriguez       Tracy Crescent   \n",
       "58                   Myers-Castro        Barron Points   \n",
       "86                   Spence-Weber        Porter Avenue   \n",
       "88  Romero, Carrillo and Marshall           Bird Ridge   \n",
       "98              Coleman-Contreras       Walters Radial   \n",
       "\n",
       "       Policy_Holder_Province  Policy_Holder_City Policy_Holder_Area  \\\n",
       "5                  Guadeloupe  South Anthonymouth            Wyoming   \n",
       "24                       Niue    Christopherhaven           Missouri   \n",
       "56  Bouvet Island (Bouvetoya)        East Deborah       South Dakota   \n",
       "58                  Singapore          North Juan       South Dakota   \n",
       "86                    Georgia      New Aprilshire            Indiana   \n",
       "88                 Madagascar           Allenbury           Colorado   \n",
       "98                      Niger          Carterfurt            Montana   \n",
       "\n",
       "   Policy_Holder_Postal Fraudulent_Claim  \n",
       "5                 73797                T  \n",
       "24                47123                T  \n",
       "56                42695                T  \n",
       "58                95295                T  \n",
       "86                94538                T  \n",
       "88                 6248                T  \n",
       "98                96501                T  \n",
       "\n",
       "[7 rows x 24 columns]"
      ]
     },
     "execution_count": 58,
     "metadata": {},
     "output_type": "execute_result"
    }
   ],
   "source": [
    "data.iloc[[5, 24, 56, 58, 86, 88, 98],:]"
   ]
  },
  {
   "cell_type": "markdown",
   "metadata": {},
   "source": [
    "Observation:\n",
    "- All these 7 data turned out to be fraud claims\n",
    "- Hence, missing date may play vital role in detecing fraud claim"
   ]
  },
  {
   "cell_type": "markdown",
   "metadata": {},
   "source": [
    "##### Solution strategy1:\n",
    "- Drop all the missing data \n",
    "- But by doing this we may loose valuable information about the data"
   ]
  },
  {
   "cell_type": "markdown",
   "metadata": {},
   "source": [
    "##### Solution strategy3:\n",
    "- Create separate category for missing date values\n",
    "- If date availabe then belongs to 'Yes', else 'No'\n",
    "- By doing this we have the data intact and not loosing any valuable information"
   ]
  },
  {
   "cell_type": "markdown",
   "metadata": {},
   "source": [
    "##### Solution strategy3:\n",
    "- forward fill the date values by the previous available date value\n",
    "- But by doing this we may loose the importance of the fact behind missing dates and also we are modifying the original data.\n",
    "- Hence, not a good idea\n",
    "- Let's proceed with the Solution strategy2"
   ]
  },
  {
   "cell_type": "code",
   "execution_count": 134,
   "metadata": {},
   "outputs": [
    {
     "data": {
      "text/plain": [
       "Present    93\n",
       "Absent      7\n",
       "Name: Policy_Start, dtype: int64"
      ]
     },
     "execution_count": 134,
     "metadata": {},
     "output_type": "execute_result"
    }
   ],
   "source": [
    "data['Policy_Start'] = np.where(data['Policy_Start'].isnull(), 'Absent', 'Present')\n",
    "data['Policy_Start'].value_counts()"
   ]
  },
  {
   "cell_type": "code",
   "execution_count": 135,
   "metadata": {},
   "outputs": [
    {
     "data": {
      "text/plain": [
       "Present    86\n",
       "Absent     14\n",
       "Name: Policy_End, dtype: int64"
      ]
     },
     "execution_count": 135,
     "metadata": {},
     "output_type": "execute_result"
    }
   ],
   "source": [
    "data['Policy_End'] = np.where(data['Policy_End'].isnull(), 'Absent', 'Present')\n",
    "data['Policy_End'].value_counts()"
   ]
  },
  {
   "cell_type": "code",
   "execution_count": 136,
   "metadata": {},
   "outputs": [
    {
     "data": {
      "text/plain": [
       "Present    93\n",
       "Absent      7\n",
       "Name: Date_Of_Claim, dtype: int64"
      ]
     },
     "execution_count": 136,
     "metadata": {},
     "output_type": "execute_result"
    }
   ],
   "source": [
    "data['Date_Of_Claim'] = np.where(data['Date_Of_Claim'].isnull(), 'Absent', 'Present')\n",
    "data['Date_Of_Claim'].value_counts()"
   ]
  },
  {
   "cell_type": "code",
   "execution_count": 82,
   "metadata": {},
   "outputs": [
    {
     "data": {
      "text/plain": [
       "Name                        0\n",
       "Surname                     0\n",
       "Age                         6\n",
       "Gender                      0\n",
       "Marital_Status              0\n",
       "Date_Of_Birth               6\n",
       "Sum_Insured                 0\n",
       "Policies_Revenue            0\n",
       "Policy_Start                0\n",
       "Policy_End                  0\n",
       "Fraudulent_Claim_Reason    16\n",
       "Date_Of_Loss                0\n",
       "Date_Of_Claim               0\n",
       "Broker_ID                   0\n",
       "Insured_ID                  0\n",
       "Kind_Of_Loss                0\n",
       "Claim_Amount                0\n",
       "Service_Provider            0\n",
       "Policy_Holder_Street        0\n",
       "Policy_Holder_Province      0\n",
       "Policy_Holder_City          0\n",
       "Policy_Holder_Area          0\n",
       "Policy_Holder_Postal        0\n",
       "Fraudulent_Claim            0\n",
       "dtype: int64"
      ]
     },
     "execution_count": 82,
     "metadata": {},
     "output_type": "execute_result"
    }
   ],
   "source": [
    "#after imputation check the dataframe again:\n",
    "data.isnull().sum()"
   ]
  },
  {
   "cell_type": "markdown",
   "metadata": {},
   "source": [
    "- Now let's look at the missing values of column 'Fraudulent_Claim_Reason'"
   ]
  },
  {
   "cell_type": "code",
   "execution_count": 88,
   "metadata": {},
   "outputs": [
    {
     "data": {
      "text/html": [
       "<div>\n",
       "<style scoped>\n",
       "    .dataframe tbody tr th:only-of-type {\n",
       "        vertical-align: middle;\n",
       "    }\n",
       "\n",
       "    .dataframe tbody tr th {\n",
       "        vertical-align: top;\n",
       "    }\n",
       "\n",
       "    .dataframe thead th {\n",
       "        text-align: right;\n",
       "    }\n",
       "</style>\n",
       "<table border=\"1\" class=\"dataframe\">\n",
       "  <thead>\n",
       "    <tr style=\"text-align: right;\">\n",
       "      <th></th>\n",
       "      <th>Name</th>\n",
       "      <th>Surname</th>\n",
       "      <th>Age</th>\n",
       "      <th>Gender</th>\n",
       "      <th>Marital_Status</th>\n",
       "      <th>Date_Of_Birth</th>\n",
       "      <th>Sum_Insured</th>\n",
       "      <th>Policies_Revenue</th>\n",
       "      <th>Policy_Start</th>\n",
       "      <th>Policy_End</th>\n",
       "      <th>...</th>\n",
       "      <th>Insured_ID</th>\n",
       "      <th>Kind_Of_Loss</th>\n",
       "      <th>Claim_Amount</th>\n",
       "      <th>Service_Provider</th>\n",
       "      <th>Policy_Holder_Street</th>\n",
       "      <th>Policy_Holder_Province</th>\n",
       "      <th>Policy_Holder_City</th>\n",
       "      <th>Policy_Holder_Area</th>\n",
       "      <th>Policy_Holder_Postal</th>\n",
       "      <th>Fraudulent_Claim</th>\n",
       "    </tr>\n",
       "  </thead>\n",
       "  <tbody>\n",
       "    <tr>\n",
       "      <th>6</th>\n",
       "      <td>Wan</td>\n",
       "      <td>Booker</td>\n",
       "      <td>45.0</td>\n",
       "      <td>Female</td>\n",
       "      <td>Widowed</td>\n",
       "      <td>1974-12-20T00:12:28</td>\n",
       "      <td>6824079.70</td>\n",
       "      <td>3682.81</td>\n",
       "      <td>1</td>\n",
       "      <td>1</td>\n",
       "      <td>...</td>\n",
       "      <td>Outsurance</td>\n",
       "      <td>Water</td>\n",
       "      <td>3972443.13</td>\n",
       "      <td>Adams, Downs and Ramirez</td>\n",
       "      <td>Dalton Mountains</td>\n",
       "      <td>Chile</td>\n",
       "      <td>Lake Triciamouth</td>\n",
       "      <td>Washington</td>\n",
       "      <td>44027</td>\n",
       "      <td>F</td>\n",
       "    </tr>\n",
       "    <tr>\n",
       "      <th>8</th>\n",
       "      <td>Horace</td>\n",
       "      <td>Rosario</td>\n",
       "      <td>67.0</td>\n",
       "      <td>Male</td>\n",
       "      <td>Single</td>\n",
       "      <td>1953-02-21T04:02:59</td>\n",
       "      <td>488974.44</td>\n",
       "      <td>1747.27</td>\n",
       "      <td>1</td>\n",
       "      <td>1</td>\n",
       "      <td>...</td>\n",
       "      <td>First for Woman</td>\n",
       "      <td>Theft</td>\n",
       "      <td>274191.61</td>\n",
       "      <td>Noble, Richmond and Campbell</td>\n",
       "      <td>Cole Corners</td>\n",
       "      <td>Isle of Man</td>\n",
       "      <td>New Triciahaven</td>\n",
       "      <td>Delaware</td>\n",
       "      <td>38487</td>\n",
       "      <td>F</td>\n",
       "    </tr>\n",
       "    <tr>\n",
       "      <th>9</th>\n",
       "      <td>Maragret</td>\n",
       "      <td>Gillespie</td>\n",
       "      <td>21.0</td>\n",
       "      <td>Female</td>\n",
       "      <td>Single</td>\n",
       "      <td>1999-05-23T08:27:31</td>\n",
       "      <td>2499093.98</td>\n",
       "      <td>977.97</td>\n",
       "      <td>1</td>\n",
       "      <td>1</td>\n",
       "      <td>...</td>\n",
       "      <td>Hollard</td>\n",
       "      <td>Natural Disaster</td>\n",
       "      <td>2103181.68</td>\n",
       "      <td>Phillips, Schultz and Alexander</td>\n",
       "      <td>Robert Manors</td>\n",
       "      <td>Tajikistan</td>\n",
       "      <td>East Monicaborough</td>\n",
       "      <td>Iowa</td>\n",
       "      <td>37220</td>\n",
       "      <td>F</td>\n",
       "    </tr>\n",
       "    <tr>\n",
       "      <th>13</th>\n",
       "      <td>Debera</td>\n",
       "      <td>Horton</td>\n",
       "      <td>100.0</td>\n",
       "      <td>Male</td>\n",
       "      <td>Widowed</td>\n",
       "      <td>1920-06-28T03:30:28</td>\n",
       "      <td>1714284.37</td>\n",
       "      <td>354.13</td>\n",
       "      <td>1</td>\n",
       "      <td>1</td>\n",
       "      <td>...</td>\n",
       "      <td>Santam</td>\n",
       "      <td>Natural Disaster</td>\n",
       "      <td>1676195.69</td>\n",
       "      <td>Jones Inc</td>\n",
       "      <td>Erika Locks</td>\n",
       "      <td>Maldives</td>\n",
       "      <td>Williamsberg</td>\n",
       "      <td>Alabama</td>\n",
       "      <td>45026</td>\n",
       "      <td>F</td>\n",
       "    </tr>\n",
       "    <tr>\n",
       "      <th>28</th>\n",
       "      <td>Ramiro</td>\n",
       "      <td>Brewer</td>\n",
       "      <td>95.0</td>\n",
       "      <td>Male</td>\n",
       "      <td>Married</td>\n",
       "      <td>1925-05-24T01:18:13</td>\n",
       "      <td>9040016.74</td>\n",
       "      <td>167.23</td>\n",
       "      <td>1</td>\n",
       "      <td>1</td>\n",
       "      <td>...</td>\n",
       "      <td>Discovery</td>\n",
       "      <td>Theft</td>\n",
       "      <td>6694815.25</td>\n",
       "      <td>Wright, Jensen and Fields</td>\n",
       "      <td>Butler Mountain</td>\n",
       "      <td>Gabon</td>\n",
       "      <td>Cherylmouth</td>\n",
       "      <td>Washington</td>\n",
       "      <td>45388</td>\n",
       "      <td>F</td>\n",
       "    </tr>\n",
       "  </tbody>\n",
       "</table>\n",
       "<p>5 rows × 24 columns</p>\n",
       "</div>"
      ],
      "text/plain": [
       "        Name    Surname    Age  Gender Marital_Status        Date_Of_Birth  \\\n",
       "6        Wan     Booker   45.0  Female        Widowed  1974-12-20T00:12:28   \n",
       "8     Horace    Rosario   67.0    Male         Single  1953-02-21T04:02:59   \n",
       "9   Maragret  Gillespie   21.0  Female         Single  1999-05-23T08:27:31   \n",
       "13    Debera     Horton  100.0    Male        Widowed  1920-06-28T03:30:28   \n",
       "28    Ramiro     Brewer   95.0    Male        Married  1925-05-24T01:18:13   \n",
       "\n",
       "    Sum_Insured  Policies_Revenue  Policy_Start  Policy_End  ...  \\\n",
       "6    6824079.70           3682.81             1           1  ...   \n",
       "8     488974.44           1747.27             1           1  ...   \n",
       "9    2499093.98            977.97             1           1  ...   \n",
       "13   1714284.37            354.13             1           1  ...   \n",
       "28   9040016.74            167.23             1           1  ...   \n",
       "\n",
       "         Insured_ID      Kind_Of_Loss  Claim_Amount  \\\n",
       "6        Outsurance             Water    3972443.13   \n",
       "8   First for Woman             Theft     274191.61   \n",
       "9           Hollard  Natural Disaster    2103181.68   \n",
       "13           Santam  Natural Disaster    1676195.69   \n",
       "28        Discovery             Theft    6694815.25   \n",
       "\n",
       "                   Service_Provider Policy_Holder_Street  \\\n",
       "6          Adams, Downs and Ramirez     Dalton Mountains   \n",
       "8      Noble, Richmond and Campbell         Cole Corners   \n",
       "9   Phillips, Schultz and Alexander        Robert Manors   \n",
       "13                        Jones Inc          Erika Locks   \n",
       "28        Wright, Jensen and Fields      Butler Mountain   \n",
       "\n",
       "   Policy_Holder_Province  Policy_Holder_City Policy_Holder_Area  \\\n",
       "6                   Chile    Lake Triciamouth         Washington   \n",
       "8             Isle of Man     New Triciahaven           Delaware   \n",
       "9              Tajikistan  East Monicaborough               Iowa   \n",
       "13               Maldives        Williamsberg            Alabama   \n",
       "28                  Gabon         Cherylmouth         Washington   \n",
       "\n",
       "   Policy_Holder_Postal Fraudulent_Claim  \n",
       "6                 44027                F  \n",
       "8                 38487                F  \n",
       "9                 37220                F  \n",
       "13                45026                F  \n",
       "28                45388                F  \n",
       "\n",
       "[5 rows x 24 columns]"
      ]
     },
     "execution_count": 88,
     "metadata": {},
     "output_type": "execute_result"
    }
   ],
   "source": [
    "data[data['Fraudulent_Claim_Reason'].isnull()].head(5)"
   ]
  },
  {
   "cell_type": "markdown",
   "metadata": {},
   "source": [
    "Observation:\n",
    "- It seems wherver 'Fraudulent_Claim_Reason' is blank it indicates it is a genuiune fraud claim and hence there is no suspecious reason found to identify it as a fraud claim."
   ]
  },
  {
   "cell_type": "markdown",
   "metadata": {},
   "source": [
    "##### Solution strategy:\n",
    "- Create a separate categories:\n",
    "- Category1 = 'Absent', when there is no valid reason found to flag a claim as a fraud claim\n",
    "- Categegory2 = 'Present', when there is any reason found to flag a claim as a fraud claim"
   ]
  },
  {
   "cell_type": "code",
   "execution_count": 87,
   "metadata": {},
   "outputs": [
    {
     "data": {
      "text/plain": [
       "Claim before Policy start                            11\n",
       "No premium but has claim                             10\n",
       "Invalid kind of loss                                 10\n",
       "Claim amount is more than Sum Insured                 9\n",
       "Claim Date before loss                                7\n",
       "No Policy start date                                  7\n",
       "No kind of loss                                       7\n",
       "No Policy end date                                    7\n",
       "No Date of birth                                      6\n",
       "Date of birth calculated Age and Age do not match     5\n",
       "Policy end date before start date                     3\n",
       "Claim after Policy end date                           2\n",
       "Name: Fraudulent_Claim_Reason, dtype: int64"
      ]
     },
     "execution_count": 87,
     "metadata": {},
     "output_type": "execute_result"
    }
   ],
   "source": [
    "data['Fraudulent_Claim_Reason'].value_counts()"
   ]
  },
  {
   "cell_type": "code",
   "execution_count": 89,
   "metadata": {},
   "outputs": [
    {
     "data": {
      "text/plain": [
       "Present    84\n",
       "Absent     16\n",
       "Name: Fraudulent_Claim_Reason, dtype: int64"
      ]
     },
     "execution_count": 89,
     "metadata": {},
     "output_type": "execute_result"
    }
   ],
   "source": [
    "data['Fraudulent_Claim_Reason'] = np.where(data['Fraudulent_Claim_Reason'].isnull(), 'Absent', 'Present')\n",
    "data['Fraudulent_Claim_Reason'].value_counts()"
   ]
  },
  {
   "cell_type": "markdown",
   "metadata": {},
   "source": [
    "- Let's look at Age and Date_Of_Birth missing values"
   ]
  },
  {
   "cell_type": "code",
   "execution_count": 102,
   "metadata": {},
   "outputs": [
    {
     "data": {
      "text/html": [
       "<div>\n",
       "<style scoped>\n",
       "    .dataframe tbody tr th:only-of-type {\n",
       "        vertical-align: middle;\n",
       "    }\n",
       "\n",
       "    .dataframe tbody tr th {\n",
       "        vertical-align: top;\n",
       "    }\n",
       "\n",
       "    .dataframe thead th {\n",
       "        text-align: right;\n",
       "    }\n",
       "</style>\n",
       "<table border=\"1\" class=\"dataframe\">\n",
       "  <thead>\n",
       "    <tr style=\"text-align: right;\">\n",
       "      <th></th>\n",
       "      <th>Name</th>\n",
       "      <th>Surname</th>\n",
       "      <th>Age</th>\n",
       "      <th>Gender</th>\n",
       "      <th>Marital_Status</th>\n",
       "      <th>Date_Of_Birth</th>\n",
       "      <th>Sum_Insured</th>\n",
       "      <th>Policies_Revenue</th>\n",
       "      <th>Policy_Start</th>\n",
       "      <th>Policy_End</th>\n",
       "      <th>...</th>\n",
       "      <th>Insured_ID</th>\n",
       "      <th>Kind_Of_Loss</th>\n",
       "      <th>Claim_Amount</th>\n",
       "      <th>Service_Provider</th>\n",
       "      <th>Policy_Holder_Street</th>\n",
       "      <th>Policy_Holder_Province</th>\n",
       "      <th>Policy_Holder_City</th>\n",
       "      <th>Policy_Holder_Area</th>\n",
       "      <th>Policy_Holder_Postal</th>\n",
       "      <th>Fraudulent_Claim</th>\n",
       "    </tr>\n",
       "  </thead>\n",
       "  <tbody>\n",
       "    <tr>\n",
       "      <th>2</th>\n",
       "      <td>Rayford</td>\n",
       "      <td>Weeks</td>\n",
       "      <td>NaN</td>\n",
       "      <td>Female</td>\n",
       "      <td>Separated</td>\n",
       "      <td>NaN</td>\n",
       "      <td>1055481.09</td>\n",
       "      <td>3842.80</td>\n",
       "      <td>1</td>\n",
       "      <td>1</td>\n",
       "      <td>...</td>\n",
       "      <td>Miway</td>\n",
       "      <td>Theft</td>\n",
       "      <td>9095.35</td>\n",
       "      <td>Black PLC</td>\n",
       "      <td>Danny Terrace</td>\n",
       "      <td>Germany</td>\n",
       "      <td>Stephanieville</td>\n",
       "      <td>Massachusetts</td>\n",
       "      <td>13812</td>\n",
       "      <td>T</td>\n",
       "    </tr>\n",
       "    <tr>\n",
       "      <th>25</th>\n",
       "      <td>Ellan</td>\n",
       "      <td>Blanchard</td>\n",
       "      <td>NaN</td>\n",
       "      <td>Female</td>\n",
       "      <td>Single</td>\n",
       "      <td>NaN</td>\n",
       "      <td>3335807.15</td>\n",
       "      <td>206.56</td>\n",
       "      <td>1</td>\n",
       "      <td>1</td>\n",
       "      <td>...</td>\n",
       "      <td>Outsurance</td>\n",
       "      <td>Water</td>\n",
       "      <td>2752094.10</td>\n",
       "      <td>Ewing, Powell and Smith</td>\n",
       "      <td>Laura Shoals</td>\n",
       "      <td>French Polynesia</td>\n",
       "      <td>Gloriafort</td>\n",
       "      <td>Alabama</td>\n",
       "      <td>49458</td>\n",
       "      <td>T</td>\n",
       "    </tr>\n",
       "    <tr>\n",
       "      <th>33</th>\n",
       "      <td>Alphonse</td>\n",
       "      <td>Kirk</td>\n",
       "      <td>NaN</td>\n",
       "      <td>Male</td>\n",
       "      <td>Separated</td>\n",
       "      <td>NaN</td>\n",
       "      <td>7483345.09</td>\n",
       "      <td>3885.05</td>\n",
       "      <td>1</td>\n",
       "      <td>1</td>\n",
       "      <td>...</td>\n",
       "      <td>Discovery</td>\n",
       "      <td>Fire</td>\n",
       "      <td>406000.95</td>\n",
       "      <td>Garcia and Sons</td>\n",
       "      <td>Whitehead Trafficway</td>\n",
       "      <td>United States Minor Outlying Islands</td>\n",
       "      <td>East Stephaniemouth</td>\n",
       "      <td>Delaware</td>\n",
       "      <td>42237</td>\n",
       "      <td>T</td>\n",
       "    </tr>\n",
       "    <tr>\n",
       "      <th>42</th>\n",
       "      <td>Valene</td>\n",
       "      <td>Copeland</td>\n",
       "      <td>NaN</td>\n",
       "      <td>Male</td>\n",
       "      <td>Married</td>\n",
       "      <td>NaN</td>\n",
       "      <td>5382562.60</td>\n",
       "      <td>2441.11</td>\n",
       "      <td>1</td>\n",
       "      <td>1</td>\n",
       "      <td>...</td>\n",
       "      <td>Santam</td>\n",
       "      <td>Natural Disaster</td>\n",
       "      <td>90049.64</td>\n",
       "      <td>Adams-Gillespie</td>\n",
       "      <td>Willis Station</td>\n",
       "      <td>Nicaragua</td>\n",
       "      <td>New Melissa</td>\n",
       "      <td>Alabama</td>\n",
       "      <td>18181</td>\n",
       "      <td>T</td>\n",
       "    </tr>\n",
       "    <tr>\n",
       "      <th>57</th>\n",
       "      <td>Jerome</td>\n",
       "      <td>Clark</td>\n",
       "      <td>NaN</td>\n",
       "      <td>Female</td>\n",
       "      <td>Married</td>\n",
       "      <td>NaN</td>\n",
       "      <td>3449451.16</td>\n",
       "      <td>4399.50</td>\n",
       "      <td>1</td>\n",
       "      <td>1</td>\n",
       "      <td>...</td>\n",
       "      <td>Santam</td>\n",
       "      <td>Natural Disaster</td>\n",
       "      <td>1823184.82</td>\n",
       "      <td>Lee PLC</td>\n",
       "      <td>Weeks Landing</td>\n",
       "      <td>United States Minor Outlying Islands</td>\n",
       "      <td>Port Tracymouth</td>\n",
       "      <td>Florida</td>\n",
       "      <td>91206</td>\n",
       "      <td>T</td>\n",
       "    </tr>\n",
       "    <tr>\n",
       "      <th>99</th>\n",
       "      <td>Mac</td>\n",
       "      <td>Henson</td>\n",
       "      <td>NaN</td>\n",
       "      <td>Female</td>\n",
       "      <td>Married</td>\n",
       "      <td>NaN</td>\n",
       "      <td>8473084.03</td>\n",
       "      <td>2056.58</td>\n",
       "      <td>1</td>\n",
       "      <td>1</td>\n",
       "      <td>...</td>\n",
       "      <td>Budget</td>\n",
       "      <td>Water</td>\n",
       "      <td>8429835.76</td>\n",
       "      <td>Goodman, Brennan and Mcmillan</td>\n",
       "      <td>Rebecca Station</td>\n",
       "      <td>Vanuatu</td>\n",
       "      <td>Thomaston</td>\n",
       "      <td>Indiana</td>\n",
       "      <td>55171</td>\n",
       "      <td>T</td>\n",
       "    </tr>\n",
       "  </tbody>\n",
       "</table>\n",
       "<p>6 rows × 24 columns</p>\n",
       "</div>"
      ],
      "text/plain": [
       "        Name    Surname  Age  Gender Marital_Status Date_Of_Birth  \\\n",
       "2    Rayford      Weeks  NaN  Female      Separated           NaN   \n",
       "25     Ellan  Blanchard  NaN  Female         Single           NaN   \n",
       "33  Alphonse       Kirk  NaN    Male      Separated           NaN   \n",
       "42    Valene   Copeland  NaN    Male        Married           NaN   \n",
       "57    Jerome      Clark  NaN  Female        Married           NaN   \n",
       "99       Mac     Henson  NaN  Female        Married           NaN   \n",
       "\n",
       "    Sum_Insured  Policies_Revenue  Policy_Start  Policy_End  ...  Insured_ID  \\\n",
       "2    1055481.09           3842.80             1           1  ...       Miway   \n",
       "25   3335807.15            206.56             1           1  ...  Outsurance   \n",
       "33   7483345.09           3885.05             1           1  ...   Discovery   \n",
       "42   5382562.60           2441.11             1           1  ...      Santam   \n",
       "57   3449451.16           4399.50             1           1  ...      Santam   \n",
       "99   8473084.03           2056.58             1           1  ...      Budget   \n",
       "\n",
       "        Kind_Of_Loss  Claim_Amount               Service_Provider  \\\n",
       "2              Theft       9095.35                      Black PLC   \n",
       "25             Water    2752094.10        Ewing, Powell and Smith   \n",
       "33              Fire     406000.95                Garcia and Sons   \n",
       "42  Natural Disaster      90049.64                Adams-Gillespie   \n",
       "57  Natural Disaster    1823184.82                        Lee PLC   \n",
       "99             Water    8429835.76  Goodman, Brennan and Mcmillan   \n",
       "\n",
       "    Policy_Holder_Street                Policy_Holder_Province  \\\n",
       "2          Danny Terrace                               Germany   \n",
       "25          Laura Shoals                      French Polynesia   \n",
       "33  Whitehead Trafficway  United States Minor Outlying Islands   \n",
       "42        Willis Station                             Nicaragua   \n",
       "57         Weeks Landing  United States Minor Outlying Islands   \n",
       "99       Rebecca Station                               Vanuatu   \n",
       "\n",
       "     Policy_Holder_City Policy_Holder_Area Policy_Holder_Postal  \\\n",
       "2        Stephanieville      Massachusetts                13812   \n",
       "25           Gloriafort            Alabama                49458   \n",
       "33  East Stephaniemouth           Delaware                42237   \n",
       "42          New Melissa            Alabama                18181   \n",
       "57      Port Tracymouth            Florida                91206   \n",
       "99            Thomaston            Indiana                55171   \n",
       "\n",
       "   Fraudulent_Claim  \n",
       "2                 T  \n",
       "25                T  \n",
       "33                T  \n",
       "42                T  \n",
       "57                T  \n",
       "99                T  \n",
       "\n",
       "[6 rows x 24 columns]"
      ]
     },
     "execution_count": 102,
     "metadata": {},
     "output_type": "execute_result"
    }
   ],
   "source": [
    "data[(data['Age'].isnull()) & (data['Date_Of_Birth'].isnull())]"
   ]
  },
  {
   "cell_type": "markdown",
   "metadata": {},
   "source": [
    "Solution strategy:\n",
    "- We can impute the missing age values with the average age or the median age\n",
    "- As age can be derived from date of birth, so both carries same information. Hence we will drop date of birth and will keep 'Age' column in further steps.\n",
    "- Took median value of age to impute the age missing values"
   ]
  },
  {
   "cell_type": "code",
   "execution_count": 237,
   "metadata": {},
   "outputs": [],
   "source": [
    "data['Age'].fillna(data['Age'].median(), inplace=True)"
   ]
  },
  {
   "cell_type": "code",
   "execution_count": 226,
   "metadata": {},
   "outputs": [],
   "source": [
    "data['Fraudulent_Claim_Reason'].fillna('No Reason Found', inplace=True)"
   ]
  },
  {
   "cell_type": "markdown",
   "metadata": {},
   "source": [
    "### EDA: few of the questions to be answered in this section\n",
    "- What is the proportion of the fruad claims and non-fraud claims?\n",
    "- How does the age distribution looks like for fraud claims? Is there any specific age group people inveolved in all the fraud claims?\n",
    "- How 'Gender' can influence fraud claims?\n",
    "- For fraud claims how does the sum insured amounts look like, it this amount high for fraud claims or not?\n",
    "- How policy start date and end date impacts the claim type identification?\n",
    "- What are the kind of losses given for all the claims? Is there any hidden pattern in it?\n",
    "- For fraum claims how the claims amount look like? Similary, for the non-fraud claims too? Is there a difference between these two amounts?\n",
    "- Which city has the highest number of claims?\n",
    "- Which city has the most number of fraud claims?\n",
    "- Which could be the top 3 most influencing features with respect to fraud claims?"
   ]
  },
  {
   "cell_type": "markdown",
   "metadata": {},
   "source": [
    "#### Step1 Univariate Analysis\n",
    "- Let's check the proportion of the claims type:"
   ]
  },
  {
   "cell_type": "code",
   "execution_count": 94,
   "metadata": {},
   "outputs": [
    {
     "data": {
      "text/plain": [
       "<AxesSubplot:ylabel='Fraudulent_Claim'>"
      ]
     },
     "execution_count": 94,
     "metadata": {},
     "output_type": "execute_result"
    },
    {
     "data": {
      "image/png": "[encoded data removed]",
      "text/plain": [
       "<Figure size 360x360 with 1 Axes>"
      ]
     },
     "metadata": {},
     "output_type": "display_data"
    }
   ],
   "source": [
    "plt.figure(figsize=(5,5))\n",
    "data.Fraudulent_Claim.value_counts().plot.pie(explode=[0,0.25], autopct='%1.2f%%', shadow=True, fontsize=12, startangle=25)"
   ]
  },
  {
   "cell_type": "markdown",
   "metadata": {},
   "source": [
    "Observation:\n",
    "- So we have 84% data identified as farud claims and only 16% as non-fraud claims data\n",
    "- This is an imbalanced data, we need to take care of this in furthet steps and make it more balanced"
   ]
  },
  {
   "cell_type": "markdown",
   "metadata": {},
   "source": [
    "- Let's check how age can influence the Fraudulent_Claim:"
   ]
  },
  {
   "cell_type": "code",
   "execution_count": 106,
   "metadata": {},
   "outputs": [
    {
     "data": {
      "text/html": [
       "<div>\n",
       "<style scoped>\n",
       "    .dataframe tbody tr th:only-of-type {\n",
       "        vertical-align: middle;\n",
       "    }\n",
       "\n",
       "    .dataframe tbody tr th {\n",
       "        vertical-align: top;\n",
       "    }\n",
       "\n",
       "    .dataframe thead tr th {\n",
       "        text-align: left;\n",
       "    }\n",
       "\n",
       "    .dataframe thead tr:last-of-type th {\n",
       "        text-align: right;\n",
       "    }\n",
       "</style>\n",
       "<table border=\"1\" class=\"dataframe\">\n",
       "  <thead>\n",
       "    <tr>\n",
       "      <th></th>\n",
       "      <th colspan=\"3\" halign=\"left\">Age</th>\n",
       "    </tr>\n",
       "    <tr>\n",
       "      <th></th>\n",
       "      <th>min</th>\n",
       "      <th>max</th>\n",
       "      <th>mean</th>\n",
       "    </tr>\n",
       "    <tr>\n",
       "      <th>Fraudulent_Claim</th>\n",
       "      <th></th>\n",
       "      <th></th>\n",
       "      <th></th>\n",
       "    </tr>\n",
       "  </thead>\n",
       "  <tbody>\n",
       "    <tr>\n",
       "      <th>F</th>\n",
       "      <td>21.0</td>\n",
       "      <td>100.0</td>\n",
       "      <td>68.125000</td>\n",
       "    </tr>\n",
       "    <tr>\n",
       "      <th>T</th>\n",
       "      <td>17.0</td>\n",
       "      <td>100.0</td>\n",
       "      <td>56.642857</td>\n",
       "    </tr>\n",
       "  </tbody>\n",
       "</table>\n",
       "</div>"
      ],
      "text/plain": [
       "                   Age                  \n",
       "                   min    max       mean\n",
       "Fraudulent_Claim                        \n",
       "F                 21.0  100.0  68.125000\n",
       "T                 17.0  100.0  56.642857"
      ]
     },
     "execution_count": 106,
     "metadata": {},
     "output_type": "execute_result"
    }
   ],
   "source": [
    "data.groupby('Fraudulent_Claim').agg({'Age':['min','max','mean']})"
   ]
  },
  {
   "cell_type": "code",
   "execution_count": 108,
   "metadata": {},
   "outputs": [
    {
     "name": "stderr",
     "output_type": "stream",
     "text": [
      "C:\\Users\\91842\\anaconda3\\lib\\site-packages\\seaborn\\distributions.py:2557: FutureWarning: `distplot` is a deprecated function and will be removed in a future version. Please adapt your code to use either `displot` (a figure-level function with similar flexibility) or `histplot` (an axes-level function for histograms).\n",
      "  warnings.warn(msg, FutureWarning)\n"
     ]
    },
    {
     "data": {
      "image/png": "[encoded data removed]",
      "text/plain": [
       "<Figure size 432x288 with 1 Axes>"
      ]
     },
     "metadata": {
      "needs_background": "light"
     },
     "output_type": "display_data"
    }
   ],
   "source": [
    "sns.distplot(data[data['Fraudulent_Claim']=='T']['Age']);"
   ]
  },
  {
   "cell_type": "markdown",
   "metadata": {},
   "source": [
    "Observation:\n",
    "- It seems all age group people can be involved with fraudalent activities. Though the distribution shows slight 2 peaks around age 35-40 and 60-65. So insurer may want to pay additional attention when the claims are raised from this age ranges."
   ]
  },
  {
   "cell_type": "code",
   "execution_count": 109,
   "metadata": {},
   "outputs": [
    {
     "name": "stderr",
     "output_type": "stream",
     "text": [
      "C:\\Users\\91842\\anaconda3\\lib\\site-packages\\seaborn\\distributions.py:2557: FutureWarning: `distplot` is a deprecated function and will be removed in a future version. Please adapt your code to use either `displot` (a figure-level function with similar flexibility) or `histplot` (an axes-level function for histograms).\n",
      "  warnings.warn(msg, FutureWarning)\n"
     ]
    },
    {
     "data": {
      "image/png": "[encoded data removed]",
      "text/plain": [
       "<Figure size 432x288 with 1 Axes>"
      ]
     },
     "metadata": {
      "needs_background": "light"
     },
     "output_type": "display_data"
    }
   ],
   "source": [
    "sns.distplot(data[data['Fraudulent_Claim']=='F']['Age']);"
   ]
  },
  {
   "cell_type": "markdown",
   "metadata": {},
   "source": [
    "Observation:\n",
    "- Most of the legit claims are from people with age>75. So we can say that old or elderly people may not be or less involved in fraudulent activities."
   ]
  },
  {
   "cell_type": "markdown",
   "metadata": {},
   "source": [
    "- Let's checl if Gender has any influence on fraud claims"
   ]
  },
  {
   "cell_type": "code",
   "execution_count": 112,
   "metadata": {},
   "outputs": [
    {
     "data": {
      "image/png": "[encoded data removed]",
      "text/plain": [
       "<Figure size 432x288 with 1 Axes>"
      ]
     },
     "metadata": {
      "needs_background": "light"
     },
     "output_type": "display_data"
    }
   ],
   "source": [
    "sns.countplot(x=\"Gender\", hue='Fraudulent_Claim', data=data);"
   ]
  },
  {
   "cell_type": "markdown",
   "metadata": {},
   "source": [
    "Observation:\n",
    "- Most of the fraud claims are done by Female policy holders. Though there is not a huge difference with respect to gender.\n",
    "- Let's perform a ch-square test to confirm this"
   ]
  },
  {
   "cell_type": "code",
   "execution_count": 123,
   "metadata": {},
   "outputs": [
    {
     "data": {
      "text/html": [
       "<div>\n",
       "<style scoped>\n",
       "    .dataframe tbody tr th:only-of-type {\n",
       "        vertical-align: middle;\n",
       "    }\n",
       "\n",
       "    .dataframe tbody tr th {\n",
       "        vertical-align: top;\n",
       "    }\n",
       "\n",
       "    .dataframe thead th {\n",
       "        text-align: right;\n",
       "    }\n",
       "</style>\n",
       "<table border=\"1\" class=\"dataframe\">\n",
       "  <thead>\n",
       "    <tr style=\"text-align: right;\">\n",
       "      <th>Fraudulent_Claim</th>\n",
       "      <th>F</th>\n",
       "      <th>T</th>\n",
       "    </tr>\n",
       "    <tr>\n",
       "      <th>Gender</th>\n",
       "      <th></th>\n",
       "      <th></th>\n",
       "    </tr>\n",
       "  </thead>\n",
       "  <tbody>\n",
       "    <tr>\n",
       "      <th>Female</th>\n",
       "      <td>0.115385</td>\n",
       "      <td>0.884615</td>\n",
       "    </tr>\n",
       "    <tr>\n",
       "      <th>Male</th>\n",
       "      <td>0.208333</td>\n",
       "      <td>0.791667</td>\n",
       "    </tr>\n",
       "  </tbody>\n",
       "</table>\n",
       "</div>"
      ],
      "text/plain": [
       "Fraudulent_Claim         F         T\n",
       "Gender                              \n",
       "Female            0.115385  0.884615\n",
       "Male              0.208333  0.791667"
      ]
     },
     "execution_count": 123,
     "metadata": {},
     "output_type": "execute_result"
    }
   ],
   "source": [
    "pd.crosstab(data['Gender'], data['Fraudulent_Claim'], normalize='index')"
   ]
  },
  {
   "cell_type": "markdown",
   "metadata": {},
   "source": [
    "Obervations:\n",
    "- This cross tabular form represents that given the Gender is 'Female' there is 88% chance of a raised claim being flagged a fraud.\n",
    "- Similarly, given the Gender is 'Male' there is 79% chance of a raised claim being flagged a fraud.\n",
    "- So, based on Gender there is not much difference wrt fraud claims\n",
    "- Now to confirm this above statment let's perform a chi-squrae test"
   ]
  },
  {
   "cell_type": "code",
   "execution_count": 124,
   "metadata": {},
   "outputs": [
    {
     "name": "stdout",
     "output_type": "stream",
     "text": [
      "Do not reject the Null hypothesis\n",
      "There is no difference between Male & Female\n"
     ]
    }
   ],
   "source": [
    "#Now do the chi2 test to establish the claim - Fare and Survival is related or not:\n",
    "from scipy.stats import chi2_contingency as chi\n",
    "obs_val = pd.crosstab(data['Gender'], data['Fraudulent_Claim'], normalize='index')\n",
    "chi(obs_val)\n",
    "\n",
    "#store the results into diff variables:\n",
    "c,p,dof,exp_val = chi(obs_val)\n",
    "\n",
    "#check the p-value of the test:\n",
    "if p<0.05:\n",
    "    print('Reject the Null hypothesis')\n",
    "    print('There is a difference between Male & Female')\n",
    "else:\n",
    "    print('Do not reject the Null hypothesis')\n",
    "    print('There is no difference between Male & Female')"
   ]
  },
  {
   "cell_type": "markdown",
   "metadata": {},
   "source": [
    "Observation:\n",
    "- There is not significant difference based on gender when it comes to fraud claims. Both men/women are likely to commit the crime."
   ]
  },
  {
   "cell_type": "markdown",
   "metadata": {},
   "source": [
    "- Let's look at the sum insured amount for fraud claims"
   ]
  },
  {
   "cell_type": "code",
   "execution_count": 125,
   "metadata": {},
   "outputs": [
    {
     "data": {
      "text/html": [
       "<div>\n",
       "<style scoped>\n",
       "    .dataframe tbody tr th:only-of-type {\n",
       "        vertical-align: middle;\n",
       "    }\n",
       "\n",
       "    .dataframe tbody tr th {\n",
       "        vertical-align: top;\n",
       "    }\n",
       "\n",
       "    .dataframe thead tr th {\n",
       "        text-align: left;\n",
       "    }\n",
       "\n",
       "    .dataframe thead tr:last-of-type th {\n",
       "        text-align: right;\n",
       "    }\n",
       "</style>\n",
       "<table border=\"1\" class=\"dataframe\">\n",
       "  <thead>\n",
       "    <tr>\n",
       "      <th></th>\n",
       "      <th colspan=\"3\" halign=\"left\">Sum_Insured</th>\n",
       "    </tr>\n",
       "    <tr>\n",
       "      <th></th>\n",
       "      <th>min</th>\n",
       "      <th>max</th>\n",
       "      <th>mean</th>\n",
       "    </tr>\n",
       "    <tr>\n",
       "      <th>Fraudulent_Claim</th>\n",
       "      <th></th>\n",
       "      <th></th>\n",
       "      <th></th>\n",
       "    </tr>\n",
       "  </thead>\n",
       "  <tbody>\n",
       "    <tr>\n",
       "      <th>F</th>\n",
       "      <td>488974.44</td>\n",
       "      <td>9776294.99</td>\n",
       "      <td>5.689073e+06</td>\n",
       "    </tr>\n",
       "    <tr>\n",
       "      <th>T</th>\n",
       "      <td>221004.85</td>\n",
       "      <td>9892380.34</td>\n",
       "      <td>4.349570e+06</td>\n",
       "    </tr>\n",
       "  </tbody>\n",
       "</table>\n",
       "</div>"
      ],
      "text/plain": [
       "                 Sum_Insured                          \n",
       "                         min         max          mean\n",
       "Fraudulent_Claim                                      \n",
       "F                  488974.44  9776294.99  5.689073e+06\n",
       "T                  221004.85  9892380.34  4.349570e+06"
      ]
     },
     "execution_count": 125,
     "metadata": {},
     "output_type": "execute_result"
    }
   ],
   "source": [
    "data.groupby('Fraudulent_Claim').agg({'Sum_Insured':['min','max','mean']})"
   ]
  },
  {
   "cell_type": "markdown",
   "metadata": {},
   "source": [
    "Observation\n",
    "- There is no significance differece in sum insured for fraud and legit claims"
   ]
  },
  {
   "cell_type": "markdown",
   "metadata": {},
   "source": [
    "- Let's see how policy start date and end date can influence the type of the claim"
   ]
  },
  {
   "cell_type": "code",
   "execution_count": 140,
   "metadata": {},
   "outputs": [
    {
     "data": {
      "image/png": "[encoded data removed]",
      "text/plain": [
       "<Figure size 288x288 with 1 Axes>"
      ]
     },
     "metadata": {},
     "output_type": "display_data"
    }
   ],
   "source": [
    "plt.figure(figsize=(4,4));\n",
    "sns.countplot(x=data['Policy_Start'], hue=data['Fraudulent_Claim']);\n",
    "plt.show()"
   ]
  },
  {
   "cell_type": "code",
   "execution_count": 141,
   "metadata": {},
   "outputs": [
    {
     "data": {
      "image/png": "[encoded data removed]",
      "text/plain": [
       "<Figure size 288x288 with 1 Axes>"
      ]
     },
     "metadata": {},
     "output_type": "display_data"
    }
   ],
   "source": [
    "plt.figure(figsize=(4,4));\n",
    "sns.countplot(x=data['Policy_End'], hue=data['Fraudulent_Claim']);\n",
    "plt.show()"
   ]
  },
  {
   "cell_type": "markdown",
   "metadata": {},
   "source": [
    "Observations:\n",
    "- It seems that when there is policy start date or policy end date is missing those are only case of fraud claims.\n",
    "- So a legit policy should have a valid policy start date and an end date as per the policy statement.\n",
    "- If those dates are missing insurer may pay additional attention to find out why these are missing, is it just a data entry flaw or not."
   ]
  },
  {
   "cell_type": "markdown",
   "metadata": {},
   "source": [
    "- Let's look at the types of losses mentioned while raising a claim"
   ]
  },
  {
   "cell_type": "code",
   "execution_count": 153,
   "metadata": {},
   "outputs": [
    {
     "data": {
      "image/png": "[encoded data removed]",
      "text/plain": [
       "<Figure size 432x288 with 1 Axes>"
      ]
     },
     "metadata": {},
     "output_type": "display_data"
    }
   ],
   "source": [
    "fig = plt.figure(figsize=(6,4))\n",
    "ax = sns.countplot(x='Kind_Of_Loss', hue='Fraudulent_Claim', data=data)\n",
    "ax.set_xticklabels(ax.get_xticklabels(), rotation=40, ha=\"right\")\n",
    "plt.show()"
   ]
  },
  {
   "cell_type": "markdown",
   "metadata": {},
   "source": [
    "Observation\n",
    "- Most of the claims are raised against loss from natural disaster and theft.\n",
    "- But the proportion of fraud claims across all the kinds of loss look similar, there is not much difference.\n",
    "- Now this data belongs to US Insurance company and it is covering almost 40 states data here. \n",
    "- States like Texas, California, Oklahoma are present which are prone to natural disaster from floods, tornadoes, winter storms, wildfires and hurricanes etc."
   ]
  },
  {
   "cell_type": "markdown",
   "metadata": {},
   "source": [
    "- Let's look at the top 10 states with highest number of fraud claims as per this data"
   ]
  },
  {
   "cell_type": "code",
   "execution_count": 204,
   "metadata": {},
   "outputs": [
    {
     "data": {
      "text/html": [
       "<div>\n",
       "<style scoped>\n",
       "    .dataframe tbody tr th:only-of-type {\n",
       "        vertical-align: middle;\n",
       "    }\n",
       "\n",
       "    .dataframe tbody tr th {\n",
       "        vertical-align: top;\n",
       "    }\n",
       "\n",
       "    .dataframe thead th {\n",
       "        text-align: right;\n",
       "    }\n",
       "</style>\n",
       "<table border=\"1\" class=\"dataframe\">\n",
       "  <thead>\n",
       "    <tr style=\"text-align: right;\">\n",
       "      <th></th>\n",
       "      <th>Fraudulent_Claim</th>\n",
       "    </tr>\n",
       "    <tr>\n",
       "      <th>Policy_Holder_Area</th>\n",
       "      <th></th>\n",
       "    </tr>\n",
       "  </thead>\n",
       "  <tbody>\n",
       "    <tr>\n",
       "      <th>Alabama</th>\n",
       "      <td>4</td>\n",
       "    </tr>\n",
       "    <tr>\n",
       "      <th>South Dakota</th>\n",
       "      <td>4</td>\n",
       "    </tr>\n",
       "    <tr>\n",
       "      <th>Louisiana</th>\n",
       "      <td>4</td>\n",
       "    </tr>\n",
       "    <tr>\n",
       "      <th>Illinois</th>\n",
       "      <td>4</td>\n",
       "    </tr>\n",
       "    <tr>\n",
       "      <th>Nevada</th>\n",
       "      <td>4</td>\n",
       "    </tr>\n",
       "    <tr>\n",
       "      <th>Rhode Island</th>\n",
       "      <td>3</td>\n",
       "    </tr>\n",
       "    <tr>\n",
       "      <th>Florida</th>\n",
       "      <td>3</td>\n",
       "    </tr>\n",
       "    <tr>\n",
       "      <th>Missouri</th>\n",
       "      <td>3</td>\n",
       "    </tr>\n",
       "    <tr>\n",
       "      <th>Maryland</th>\n",
       "      <td>3</td>\n",
       "    </tr>\n",
       "    <tr>\n",
       "      <th>Michigan</th>\n",
       "      <td>3</td>\n",
       "    </tr>\n",
       "  </tbody>\n",
       "</table>\n",
       "</div>"
      ],
      "text/plain": [
       "                    Fraudulent_Claim\n",
       "Policy_Holder_Area                  \n",
       "Alabama                            4\n",
       "South Dakota                       4\n",
       "Louisiana                          4\n",
       "Illinois                           4\n",
       "Nevada                             4\n",
       "Rhode Island                       3\n",
       "Florida                            3\n",
       "Missouri                           3\n",
       "Maryland                           3\n",
       "Michigan                           3"
      ]
     },
     "execution_count": 204,
     "metadata": {},
     "output_type": "execute_result"
    }
   ],
   "source": [
    "data_test = data[data['Fraudulent_Claim']=='T']\n",
    "state_wise_fraud_claims_Count = data_test.groupby('Policy_Holder_Area').agg({'Fraudulent_Claim':'count'}).sort_values('Fraudulent_Claim',ascending=False)\n",
    "\n",
    "#Display the top states \n",
    "state_wise_fraud_claims_Count[:10]"
   ]
  },
  {
   "cell_type": "markdown",
   "metadata": {},
   "source": [
    "Observation\n",
    "- These are the top 10 states where most of the fraud claims have raised."
   ]
  },
  {
   "cell_type": "markdown",
   "metadata": {},
   "source": [
    "- Let's check Marital status vs fraud claims"
   ]
  },
  {
   "cell_type": "code",
   "execution_count": 208,
   "metadata": {},
   "outputs": [
    {
     "data": {
      "image/png": "[encoded data removed]",
      "text/plain": [
       "<Figure size 432x288 with 1 Axes>"
      ]
     },
     "metadata": {},
     "output_type": "display_data"
    }
   ],
   "source": [
    "plt.figure(figsize=(6,4));\n",
    "sns.countplot(x=data['Marital_Status'], hue=data['Fraudulent_Claim'])\n",
    "plt.show();"
   ]
  },
  {
   "cell_type": "markdown",
   "metadata": {},
   "source": [
    "Observation\n",
    "- Single people are doing less fraud in comparsion to Married and separated people"
   ]
  },
  {
   "cell_type": "markdown",
   "metadata": {},
   "source": [
    "- Now that we have explored the data feature wise let's move to the model building steps. "
   ]
  },
  {
   "cell_type": "markdown",
   "metadata": {},
   "source": [
    "#### Data pre-processing\n",
    "- Cleaning up the data and prepare it for modelling"
   ]
  },
  {
   "cell_type": "markdown",
   "metadata": {},
   "source": [
    "- Step1: Remove the unnecessary columns which adds no variatio/information to the data like different kind of IDs, Name, Postal code etc\n",
    "- Step2: Convert the categorical data into numerical data\n",
    "- Step3: Separate input(x) and output(y) for the model\n",
    "- Step4: Split the data into train and test sets\n",
    "- Step5: Then apply SMOTE on the train set to handle the class imbalance"
   ]
  },
  {
   "cell_type": "code",
   "execution_count": 238,
   "metadata": {},
   "outputs": [],
   "source": [
    "df = data.copy()"
   ]
  },
  {
   "cell_type": "code",
   "execution_count": 239,
   "metadata": {},
   "outputs": [],
   "source": [
    "# dropping unimportant columns\n",
    "df.drop(['Name','Surname','Date_Of_Birth','Date_Of_Loss','Broker_ID','Insured_ID','Service_Provider','Policy_Holder_Street','Policy_Holder_Province','Policy_Holder_City','Policy_Holder_Postal'], axis=1, inplace=True)"
   ]
  },
  {
   "cell_type": "code",
   "execution_count": 240,
   "metadata": {},
   "outputs": [
    {
     "data": {
      "text/plain": [
       "Index(['Gender', 'Marital_Status', 'Policy_Start', 'Policy_End',\n",
       "       'Fraudulent_Claim_Reason', 'Date_Of_Claim', 'Kind_Of_Loss',\n",
       "       'Policy_Holder_Area', 'Fraudulent_Claim'],\n",
       "      dtype='object')"
      ]
     },
     "execution_count": 240,
     "metadata": {},
     "output_type": "execute_result"
    }
   ],
   "source": [
    "# Check on categorical variables:\n",
    "df.select_dtypes(include=['object']).columns  # checking categorcial columns"
   ]
  },
  {
   "cell_type": "code",
   "execution_count": 241,
   "metadata": {},
   "outputs": [
    {
     "data": {
      "text/plain": [
       "['Age',\n",
       " 'Gender',\n",
       " 'Marital_Status',\n",
       " 'Sum_Insured',\n",
       " 'Policies_Revenue',\n",
       " 'Policy_Start',\n",
       " 'Policy_End',\n",
       " 'Fraudulent_Claim_Reason',\n",
       " 'Date_Of_Claim',\n",
       " 'Kind_Of_Loss',\n",
       " 'Claim_Amount',\n",
       " 'Policy_Holder_Area']"
      ]
     },
     "execution_count": 241,
     "metadata": {},
     "output_type": "execute_result"
    }
   ],
   "source": [
    "#Apply encoding\n",
    "x_features = list(df.columns)\n",
    "x_features.remove('Fraudulent_Claim')\n",
    "x_features"
   ]
  },
  {
   "cell_type": "code",
   "execution_count": 242,
   "metadata": {},
   "outputs": [
    {
     "data": {
      "text/html": [
       "<div>\n",
       "<style scoped>\n",
       "    .dataframe tbody tr th:only-of-type {\n",
       "        vertical-align: middle;\n",
       "    }\n",
       "\n",
       "    .dataframe tbody tr th {\n",
       "        vertical-align: top;\n",
       "    }\n",
       "\n",
       "    .dataframe thead th {\n",
       "        text-align: right;\n",
       "    }\n",
       "</style>\n",
       "<table border=\"1\" class=\"dataframe\">\n",
       "  <thead>\n",
       "    <tr style=\"text-align: right;\">\n",
       "      <th></th>\n",
       "      <th>Age</th>\n",
       "      <th>Sum_Insured</th>\n",
       "      <th>Policies_Revenue</th>\n",
       "      <th>Claim_Amount</th>\n",
       "      <th>Gender_Male</th>\n",
       "      <th>Marital_Status_Married</th>\n",
       "      <th>Marital_Status_Separated</th>\n",
       "      <th>Marital_Status_Single</th>\n",
       "      <th>Marital_Status_Widowed</th>\n",
       "      <th>Policy_Start_Present</th>\n",
       "      <th>...</th>\n",
       "      <th>Policy_Holder_Area_Pennsylvania</th>\n",
       "      <th>Policy_Holder_Area_Rhode Island</th>\n",
       "      <th>Policy_Holder_Area_South Dakota</th>\n",
       "      <th>Policy_Holder_Area_Tennessee</th>\n",
       "      <th>Policy_Holder_Area_Texas</th>\n",
       "      <th>Policy_Holder_Area_Utah</th>\n",
       "      <th>Policy_Holder_Area_Vermont</th>\n",
       "      <th>Policy_Holder_Area_Virginia</th>\n",
       "      <th>Policy_Holder_Area_Washington</th>\n",
       "      <th>Policy_Holder_Area_Wyoming</th>\n",
       "    </tr>\n",
       "  </thead>\n",
       "  <tbody>\n",
       "    <tr>\n",
       "      <th>0</th>\n",
       "      <td>48.0</td>\n",
       "      <td>757809.97</td>\n",
       "      <td>2472.35</td>\n",
       "      <td>212213.66</td>\n",
       "      <td>0</td>\n",
       "      <td>0</td>\n",
       "      <td>0</td>\n",
       "      <td>0</td>\n",
       "      <td>1</td>\n",
       "      <td>1</td>\n",
       "      <td>...</td>\n",
       "      <td>0</td>\n",
       "      <td>0</td>\n",
       "      <td>0</td>\n",
       "      <td>0</td>\n",
       "      <td>0</td>\n",
       "      <td>0</td>\n",
       "      <td>0</td>\n",
       "      <td>0</td>\n",
       "      <td>0</td>\n",
       "      <td>0</td>\n",
       "    </tr>\n",
       "    <tr>\n",
       "      <th>1</th>\n",
       "      <td>50.0</td>\n",
       "      <td>6750638.09</td>\n",
       "      <td>1614.29</td>\n",
       "      <td>2488934.79</td>\n",
       "      <td>1</td>\n",
       "      <td>1</td>\n",
       "      <td>0</td>\n",
       "      <td>0</td>\n",
       "      <td>0</td>\n",
       "      <td>1</td>\n",
       "      <td>...</td>\n",
       "      <td>1</td>\n",
       "      <td>0</td>\n",
       "      <td>0</td>\n",
       "      <td>0</td>\n",
       "      <td>0</td>\n",
       "      <td>0</td>\n",
       "      <td>0</td>\n",
       "      <td>0</td>\n",
       "      <td>0</td>\n",
       "      <td>0</td>\n",
       "    </tr>\n",
       "  </tbody>\n",
       "</table>\n",
       "<p>2 rows × 66 columns</p>\n",
       "</div>"
      ],
      "text/plain": [
       "    Age  Sum_Insured  Policies_Revenue  Claim_Amount  Gender_Male  \\\n",
       "0  48.0    757809.97           2472.35     212213.66            0   \n",
       "1  50.0   6750638.09           1614.29    2488934.79            1   \n",
       "\n",
       "   Marital_Status_Married  Marital_Status_Separated  Marital_Status_Single  \\\n",
       "0                       0                         0                      0   \n",
       "1                       1                         0                      0   \n",
       "\n",
       "   Marital_Status_Widowed  Policy_Start_Present  ...  \\\n",
       "0                       1                     1  ...   \n",
       "1                       0                     1  ...   \n",
       "\n",
       "   Policy_Holder_Area_Pennsylvania  Policy_Holder_Area_Rhode Island  \\\n",
       "0                                0                                0   \n",
       "1                                1                                0   \n",
       "\n",
       "   Policy_Holder_Area_South Dakota  Policy_Holder_Area_Tennessee  \\\n",
       "0                                0                             0   \n",
       "1                                0                             0   \n",
       "\n",
       "   Policy_Holder_Area_Texas  Policy_Holder_Area_Utah  \\\n",
       "0                         0                        0   \n",
       "1                         0                        0   \n",
       "\n",
       "   Policy_Holder_Area_Vermont  Policy_Holder_Area_Virginia  \\\n",
       "0                           0                            0   \n",
       "1                           0                            0   \n",
       "\n",
       "   Policy_Holder_Area_Washington  Policy_Holder_Area_Wyoming  \n",
       "0                              0                           0  \n",
       "1                              0                           0  \n",
       "\n",
       "[2 rows x 66 columns]"
      ]
     },
     "execution_count": 242,
     "metadata": {},
     "output_type": "execute_result"
    }
   ],
   "source": [
    "encoded_data = pd.get_dummies(df[x_features], drop_first=True)\n",
    "encoded_data.head(2)"
   ]
  },
  {
   "cell_type": "markdown",
   "metadata": {},
   "source": [
    "- apply SMOTE technique to upsample the minor class (non-fraud claims in this case)\n",
    "- In this data Majority class is Fraud claims and Minority class is non-fraud claims\n",
    "- But before applying this we need to split the data"
   ]
  },
  {
   "cell_type": "code",
   "execution_count": 243,
   "metadata": {},
   "outputs": [
    {
     "data": {
      "text/plain": [
       "1    84\n",
       "0    16\n",
       "Name: Fraudulent_Claim, dtype: int64"
      ]
     },
     "execution_count": 243,
     "metadata": {},
     "output_type": "execute_result"
    }
   ],
   "source": [
    "df['Fraudulent_Claim'] = df['Fraudulent_Claim'].map(lambda x: 1 if x=='T' else 0)\n",
    "df['Fraudulent_Claim'].value_counts()"
   ]
  },
  {
   "cell_type": "code",
   "execution_count": 244,
   "metadata": {},
   "outputs": [],
   "source": [
    "#Prepare x and y:\n",
    "X = encoded_data\n",
    "y = df['Fraudulent_Claim']"
   ]
  },
  {
   "cell_type": "code",
   "execution_count": 245,
   "metadata": {},
   "outputs": [],
   "source": [
    "#Train-test split\n",
    "x_train, x_test, y_train, y_test = train_test_split(X, y, test_size=0.2, stratify=y)"
   ]
  },
  {
   "cell_type": "code",
   "execution_count": 254,
   "metadata": {},
   "outputs": [
    {
     "name": "stdout",
     "output_type": "stream",
     "text": [
      "(100, 66) (100,)\n",
      "67\n",
      "33\n"
     ]
    }
   ],
   "source": [
    "#Apply SMOTE technique to upsample the minory class records/samples\n",
    "from imblearn.over_sampling import SMOTE \n",
    "#oversample the minority class to have 50% percent the number of the majority class.\n",
    "sm = SMOTE(sampling_strategy=0.5)\n",
    "\n",
    "\n",
    "#apply SMOTE on the train set\n",
    "X_train_res, y_train_res = sm.fit_sample(x_train, y_train) \n",
    "\n",
    "\n",
    "#check the shape of the data now\n",
    "print(X_train_res.shape, y_train_res.shape)\n",
    "\n",
    "\n",
    "#check how the class labels look now\n",
    "print(sum(y_train_res==1))\n",
    "print(sum(y_train_res==0))"
   ]
  },
  {
   "cell_type": "markdown",
   "metadata": {},
   "source": [
    "Modelling\n",
    "- As this is a binary classification problem so applied Logistics Regression at first\n",
    "- With this dataset the availability of data is a constraint. As the dataset has less number of observations and higher number of features. So tried with different type of algorithm to compare which one works well with such data and can be reiable.\n"
   ]
  },
  {
   "cell_type": "markdown",
   "metadata": {},
   "source": [
    "#### 1. Logistic Regression Model"
   ]
  },
  {
   "cell_type": "code",
   "execution_count": 255,
   "metadata": {},
   "outputs": [
    {
     "name": "stdout",
     "output_type": "stream",
     "text": [
      "              precision    recall  f1-score   support\n",
      "\n",
      "           0       0.25      0.33      0.29         3\n",
      "           1       0.88      0.82      0.85        17\n",
      "\n",
      "    accuracy                           0.75        20\n",
      "   macro avg       0.56      0.58      0.57        20\n",
      "weighted avg       0.78      0.75      0.76        20\n",
      "\n"
     ]
    }
   ],
   "source": [
    "#let's create an objcet of type Logistic Regression first\n",
    "lr_model = LogisticRegression() \n",
    "\n",
    "#fit the train data\n",
    "lr_model.fit(X_train_res, y_train_res) \n",
    "\n",
    "#make the predictions using the trained model\n",
    "y_predictions = lr_model.predict(x_test) \n",
    "  \n",
    "# print model report \n",
    "print(classification_report(y_test, y_predictions))"
   ]
  },
  {
   "cell_type": "markdown",
   "metadata": {},
   "source": [
    "Insights from the model report\n",
    "- Here 1 is the 'Fraud claim' (or positive class) and 0 is the 'Non-fraud claim' (or negative class)\n",
    "- The accuracy of the model is 75% \n",
    "- The recall of the majority class is 82%. It means that 82% of the actual Fraud claims are correctly predicted by the model. Which is not a bad recall score.\n",
    "- The precision for the majority class is also good, 88%. It means that out of total predicted Fraud claims 88 of them are actually Fraud claims. Thus positive class prediction precision is also not bad.\n",
    "- As for positive class (Fraud claim) both Recall and Precison are fine, hence the F1-score is also fine (85%)."
   ]
  },
  {
   "cell_type": "markdown",
   "metadata": {},
   "source": [
    "#### 2. Decision Tree"
   ]
  },
  {
   "cell_type": "code",
   "execution_count": 264,
   "metadata": {},
   "outputs": [
    {
     "name": "stdout",
     "output_type": "stream",
     "text": [
      "              precision    recall  f1-score   support\n",
      "\n",
      "           0       1.00      1.00      1.00         3\n",
      "           1       1.00      1.00      1.00        17\n",
      "\n",
      "    accuracy                           1.00        20\n",
      "   macro avg       1.00      1.00      1.00        20\n",
      "weighted avg       1.00      1.00      1.00        20\n",
      "\n"
     ]
    }
   ],
   "source": [
    "#create an instance\n",
    "dt_model = DecisionTreeClassifier()\n",
    "\n",
    "#fit the train data to the model\n",
    "dt_model.fit(X_train_res, y_train_res)\n",
    "\n",
    "#predict using test set\n",
    "y_predictions_dt = dt_model.predict(x_test)\n",
    "\n",
    "#check the accuracy of the model\n",
    "print(classification_report(y_test, y_predictions_dt))"
   ]
  },
  {
   "cell_type": "markdown",
   "metadata": {},
   "source": [
    "Insigts:\n",
    "- It seems that Decisison Tree model has overfitted the data"
   ]
  },
  {
   "cell_type": "markdown",
   "metadata": {},
   "source": [
    "#### 3. KNN Model"
   ]
  },
  {
   "cell_type": "code",
   "execution_count": 266,
   "metadata": {},
   "outputs": [
    {
     "name": "stdout",
     "output_type": "stream",
     "text": [
      "              precision    recall  f1-score   support\n",
      "\n",
      "           0       0.00      0.00      0.00         3\n",
      "           1       0.82      0.82      0.82        17\n",
      "\n",
      "    accuracy                           0.70        20\n",
      "   macro avg       0.41      0.41      0.41        20\n",
      "weighted avg       0.70      0.70      0.70        20\n",
      "\n"
     ]
    }
   ],
   "source": [
    "x_scalar = StandardScaler()\n",
    "x_scaled = x_scalar.fit_transform(X)\n",
    "\n",
    "#create an instance\n",
    "knn = KNeighborsClassifier()\n",
    "\n",
    "#fit the train data to the model\n",
    "knn.fit(X_train_res, y_train_res)\n",
    "\n",
    "#predict using test set\n",
    "y_predictions_knn = knn.predict(x_test)\n",
    "\n",
    "#check the accuracy of the model\n",
    "print(classification_report(y_test, y_predictions_knn))"
   ]
  },
  {
   "cell_type": "markdown",
   "metadata": {},
   "source": [
    "Insights\n",
    "- KNN model is giving 70% accuracy on the balanced data"
   ]
  },
  {
   "cell_type": "markdown",
   "metadata": {},
   "source": [
    "#### 4. Random Forest"
   ]
  },
  {
   "cell_type": "code",
   "execution_count": 259,
   "metadata": {},
   "outputs": [],
   "source": [
    "from sklearn.ensemble import BaggingClassifier\n",
    "from sklearn.ensemble import RandomForestClassifier"
   ]
  },
  {
   "cell_type": "code",
   "execution_count": 270,
   "metadata": {},
   "outputs": [
    {
     "name": "stdout",
     "output_type": "stream",
     "text": [
      "              precision    recall  f1-score   support\n",
      "\n",
      "           0       1.00      0.33      0.50         3\n",
      "           1       0.89      1.00      0.94        17\n",
      "\n",
      "    accuracy                           0.90        20\n",
      "   macro avg       0.95      0.67      0.72        20\n",
      "weighted avg       0.91      0.90      0.88        20\n",
      "\n"
     ]
    }
   ],
   "source": [
    "rf_model = BaggingClassifier(base_estimator=RandomForestClassifier(),\n",
    "                            bootstrap=True,\n",
    "                            oob_score=True)\n",
    "\n",
    "#fit the train data to the bagging model\n",
    "rf_model.fit(X_train_res, y_train_res)\n",
    "\n",
    "#predict using test set\n",
    "y_predictions_rf = rf_model.predict(x_test)\n",
    "\n",
    "#check the accuracy of the model\n",
    "print(classification_report(y_test, y_predictions_rf))"
   ]
  },
  {
   "cell_type": "code",
   "execution_count": 287,
   "metadata": {},
   "outputs": [
    {
     "name": "stdout",
     "output_type": "stream",
     "text": [
      "1.0\n",
      "0.99\n",
      "0.9\n"
     ]
    }
   ],
   "source": [
    "#Now check how the trained model has performed on the out of bag sample:\n",
    "print(rf_model.score(X_train_res, y_train_res))   #score on train set\n",
    "print(rf_model.oob_score_)                        #score on out of bag samples\n",
    "print(rf_model.score(x_test,y_test))              #score on test set"
   ]
  },
  {
   "cell_type": "markdown",
   "metadata": {},
   "source": [
    "Insights\n",
    "- So, random forest model has not overfitted the data. It performs well on the OOB Sample as well.\n",
    "- RF model is giving the highest accuracy among all the models applied here (90%)\n",
    "- Recall for positive class is very high 1.00 (which is an ideal scenario), so still there is a suspecion on the model's performance."
   ]
  },
  {
   "cell_type": "markdown",
   "metadata": {},
   "source": [
    "- Calculate the Feature importance using Random forest model:"
   ]
  },
  {
   "cell_type": "code",
   "execution_count": 295,
   "metadata": {},
   "outputs": [
    {
     "data": {
      "text/html": [
       "<div>\n",
       "<style scoped>\n",
       "    .dataframe tbody tr th:only-of-type {\n",
       "        vertical-align: middle;\n",
       "    }\n",
       "\n",
       "    .dataframe tbody tr th {\n",
       "        vertical-align: top;\n",
       "    }\n",
       "\n",
       "    .dataframe thead th {\n",
       "        text-align: right;\n",
       "    }\n",
       "</style>\n",
       "<table border=\"1\" class=\"dataframe\">\n",
       "  <thead>\n",
       "    <tr style=\"text-align: right;\">\n",
       "      <th></th>\n",
       "      <th>importance</th>\n",
       "    </tr>\n",
       "  </thead>\n",
       "  <tbody>\n",
       "    <tr>\n",
       "      <th>Fraudulent_Claim_Reason_No Reason Found</th>\n",
       "      <td>0.491614</td>\n",
       "    </tr>\n",
       "    <tr>\n",
       "      <th>Claim_Amount</th>\n",
       "      <td>0.090491</td>\n",
       "    </tr>\n",
       "    <tr>\n",
       "      <th>Sum_Insured</th>\n",
       "      <td>0.085729</td>\n",
       "    </tr>\n",
       "    <tr>\n",
       "      <th>Age</th>\n",
       "      <td>0.055284</td>\n",
       "    </tr>\n",
       "    <tr>\n",
       "      <th>Policies_Revenue</th>\n",
       "      <td>0.052555</td>\n",
       "    </tr>\n",
       "  </tbody>\n",
       "</table>\n",
       "</div>"
      ],
      "text/plain": [
       "                                         importance\n",
       "Fraudulent_Claim_Reason_No Reason Found    0.491614\n",
       "Claim_Amount                               0.090491\n",
       "Sum_Insured                                0.085729\n",
       "Age                                        0.055284\n",
       "Policies_Revenue                           0.052555"
      ]
     },
     "execution_count": 295,
     "metadata": {},
     "output_type": "execute_result"
    }
   ],
   "source": [
    "rf = RandomForestClassifier() \n",
    "\n",
    "# Fit the model on training data.\n",
    "rf.fit(X_train_res, y_train_res) \n",
    "\n",
    "# And score it on your testing data.\n",
    "rf.score(x_test, y_test)\n",
    "\n",
    "import pandas as pd\n",
    "feature_importances = pd.DataFrame(rf.feature_importances_,\n",
    "                                   index = X_train_res.columns,\n",
    "                                    columns=['importance']).sort_values('importance', ascending=False)\n",
    "feature_importances.head()"
   ]
  },
  {
   "cell_type": "markdown",
   "metadata": {},
   "source": [
    "#### ROC Check for the models:"
   ]
  },
  {
   "cell_type": "code",
   "execution_count": 275,
   "metadata": {},
   "outputs": [],
   "source": [
    "# Area Under Curve\n",
    "auc = roc_auc_score(y_test, y_predictions)\n",
    "fpr, tpr, thresholds = roc_curve(y_test, y_predictions)"
   ]
  },
  {
   "cell_type": "code",
   "execution_count": 276,
   "metadata": {},
   "outputs": [
    {
     "data": {
      "image/png": "[encoded data removed]",
      "text/plain": [
       "<Figure size 432x288 with 1 Axes>"
      ]
     },
     "metadata": {},
     "output_type": "display_data"
    }
   ],
   "source": [
    "plt.plot(fpr, tpr, color='orange', label='ROC')\n",
    "plt.plot([0, 1], [0, 1], color='darkblue', linestyle='--',label='ROC curve (area = %0.2f)' % auc)\n",
    "plt.xlabel('False Positive Rate')\n",
    "plt.ylabel('True Positive Rate')\n",
    "plt.title('Receiver Operating Characteristic (ROC) Curve')\n",
    "plt.legend()\n",
    "plt.show()"
   ]
  },
  {
   "cell_type": "code",
   "execution_count": 277,
   "metadata": {},
   "outputs": [],
   "source": [
    "# Area Under Curve\n",
    "auc = roc_auc_score(y_test, y_predictions_rf)\n",
    "fpr, tpr, thresholds = roc_curve(y_test, y_predictions_rf)"
   ]
  },
  {
   "cell_type": "code",
   "execution_count": 278,
   "metadata": {},
   "outputs": [
    {
     "data": {
      "image/png": "[encoded data removed]",
      "text/plain": [
       "<Figure size 432x288 with 1 Axes>"
      ]
     },
     "metadata": {},
     "output_type": "display_data"
    }
   ],
   "source": [
    "plt.plot(fpr, tpr, color='orange', label='ROC')\n",
    "plt.plot([0, 1], [0, 1], color='darkblue', linestyle='--',label='ROC curve (area = %0.2f)' % auc)\n",
    "plt.xlabel('False Positive Rate')\n",
    "plt.ylabel('True Positive Rate')\n",
    "plt.title('Receiver Operating Characteristic (ROC) Curve')\n",
    "plt.legend()\n",
    "plt.show()"
   ]
  },
  {
   "cell_type": "markdown",
   "metadata": {},
   "source": [
    "# Conclusion\n",
    "### First Ask\n",
    "- What we want to achieve here or what is the focus of the model here?\n",
    "- Are we able to achieve the target?\n",
    "- If yes, then through which model/models we are able to achieve it?"
   ]
  },
  {
   "cell_type": "markdown",
   "metadata": {},
   "source": [
    "### Answer\n",
    "- The aim of the project is to detect the fraud claims as much as possible because there is high cost associated with fraudulanet activities. Or we can say that there is a high cost associated with false negatives cases. \n",
    "- Organizations don't want to lose business over a fraud claims. So, in this prediction need to maximise the Recall for positive class i.e 'Fraud Claim'. It is not acceptable to predict a fruad claim as a non-fraud calim. But if the model predicts a non-fraud claim as a fraud claim then there is no loss from business point of view. \n",
    "- Among all the four models a simple algorithm like Logistic Regression has outperformed the rest.\n",
    "- If we only consider the accuarcy then Random forest has preformed the best, but with Recall score as 100% it may not be good idea to rely on this model.\n",
    "- Hence, as more generalized and reliable model Logistic Regression can be choosen for this particular dataset and the given problem statement."
   ]
  },
  {
   "cell_type": "code",
   "execution_count": null,
   "metadata": {},
   "outputs": [],
   "source": []
  }
 ],
 "metadata": {
  "kernelspec": {
   "display_name": "Python 3",
   "language": "python",
   "name": "python3"
  },
  "language_info": {
   "codemirror_mode": {
    "name": "ipython",
    "version": 3
   },
   "file_extension": ".py",
   "mimetype": "text/x-python",
   "name": "python",
   "nbconvert_exporter": "python",
   "pygments_lexer": "ipython3",
   "version": "3.7.6"
  },
  "pycharm": {
   "stem_cell": {
    "cell_type": "raw",
    "metadata": {
     "collapsed": false
    },
    "source": []
   }
  }
 },
 "nbformat": 4,
 "nbformat_minor": 2
}
